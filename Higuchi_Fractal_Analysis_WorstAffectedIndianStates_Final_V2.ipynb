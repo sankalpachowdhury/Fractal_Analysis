{
  "nbformat": 4,
  "nbformat_minor": 0,
  "metadata": {
    "colab": {
      "name": "Higuchi_Fractal_analysis_states",
      "provenance": [],
      "include_colab_link": true
    },
    "kernelspec": {
      "name": "python3",
      "display_name": "Python 3"
    },
    "accelerator": "GPU"
  },
  "cells": [
    {
      "cell_type": "markdown",
      "metadata": {
        "id": "view-in-github",
        "colab_type": "text"
      },
      "source": [
        "<a href=\"https://colab.research.google.com/github/sankalpachowdhury/Fractal_Analysis/blob/master/Higuchi_Fractal_Analysis_WorstAffectedIndianStates_Final_V2.ipynb\" target=\"_parent\"><img src=\"https://colab.research.google.com/assets/colab-badge.svg\" alt=\"Open In Colab\"/></a>"
      ]
    },
    {
      "cell_type": "markdown",
      "metadata": {
        "id": "-RLYfQJMi6pH",
        "colab_type": "text"
      },
      "source": [
        "#Function"
      ]
    },
    {
      "cell_type": "code",
      "metadata": {
        "id": "6WL9wLbwwO5x",
        "colab_type": "code",
        "colab": {}
      },
      "source": [
        "import pandas as pd\n",
        "import numpy as np\n",
        "import matplotlib.pyplot as plt\n",
        "import time"
      ],
      "execution_count": 1,
      "outputs": []
    },
    {
      "cell_type": "code",
      "metadata": {
        "id": "PHmNbQdmzzfR",
        "colab_type": "code",
        "colab": {}
      },
      "source": [
        "import os\n",
        "import ctypes\n",
        "import numpy as np\n",
        "from numpy.ctypeslib import ndpointer\n",
        "\n",
        "def curve_length(X,opt=False,num_k=50,k_max=None):\n",
        "    \"\"\"\n",
        "    Calculate curve length <Lk> for Higuchi Fractal Dimension (HFD)\n",
        "    \n",
        "    Input:\n",
        "    \n",
        "    X - input (time) series (must be 1D, to be converted into a NumPy array)\n",
        "    opt (=True) - optimized? (if libhfd.so was compiled uses the faster code).\n",
        "    num_k - number of k values to generate.\n",
        "    k_max - the maximum k (the k array is generated uniformly in log space \n",
        "            from 2 to k_max)\n",
        "    Output:\n",
        "    k - interval \"times\", window sizes\n",
        "    Lk - curve length\n",
        "    \"\"\"\n",
        "    ### Make sure X is a NumPy array with the correct dimension\n",
        "    X = np.array(X)\n",
        "    if X.ndim != 1:\n",
        "        raise ValueError(\"Input array must be 1D (time series).\")\n",
        "    N = X.size\n",
        "\n",
        "    ### Get interval \"time\"\n",
        "    k_arr = interval_t(N,num_val=num_k,kmax=k_max)\n",
        "\n",
        "    ### The average length\n",
        "    Lk = np.empty(k_arr.size,dtype=np.float)\n",
        "\n",
        "    ### C library\n",
        "    '''\n",
        "    if opt:\n",
        "        X = np.require(X, float, ('C', 'A'))\n",
        "        k_arr = np.require(k_arr, ctypes.c_size_t, ('C', 'A'))\n",
        "        Lk = np.require(Lk, float, ('C', 'A'))\n",
        "        ## Load library here\n",
        "        libhfd = init_lib()\n",
        "        ## Run the C code here\n",
        "        libhfd.curve_length(k_arr,k_arr.size,X,N,Lk)\n",
        "    '''\n",
        "    #else:\n",
        "        ### Native Python run\n",
        "    for i in range(k_arr.size):# over array of k's\n",
        "            Lmk = 0.0\n",
        "            for j in range(k_arr[i]):# over m's\n",
        "                ## Construct X_k^m, i.e. X_(k_arr[i])^j, as X[j::k_arr[i]]\n",
        "                ## Calculate L_m(k)\n",
        "                Lmk += (\n",
        "                    np.sum(\n",
        "                        np.abs(\n",
        "                            np.diff( X[j::k_arr[i]] )\n",
        "                        )\n",
        "                    )\n",
        "                    * (N - 1) /\n",
        "                    (\n",
        "                        ( (N-j-1)//k_arr[i] )\n",
        "                        *\n",
        "                        k_arr[i]\n",
        "                    )\n",
        "                ) / k_arr[i]\n",
        "\n",
        "            ### Calculate the average Lmk\n",
        "            Lk[i] = Lmk / k_arr[i]\n",
        "\n",
        "    return (k_arr, Lk);\n",
        "\n",
        "def lin_fit_hfd(k,L,log=True):\n",
        "    \"\"\"\n",
        "    Calculate Higuchi Fractal Dimension (HFD) by fitting a line to already computed\n",
        "    interval times k and curve lengths L\n",
        "    Input:\n",
        "    k - interval \"times\", window sizes\n",
        "    L - curve length\n",
        "    log (=True) - k and L values will be transformed to np.log2(k) and np.log2(L),\n",
        "                  respectively\n",
        "    Output:\n",
        "    HFD\n",
        "    \"\"\"\n",
        "    if log:\n",
        "        return (-np.polyfit(np.log2(k),np.log2(L),deg=1)[0]);\n",
        "    else:\n",
        "        return (-np.polyfit(k,L,deg=1)[0]);\n",
        "\n",
        "def hfd(X,**kwargs):\n",
        "    \"\"\"\n",
        "    Calculate Higuchi Fractal Dimension (HFD) for 1D data/series\n",
        "    Input:\n",
        "    X - input (time) series (must be 1D, to be converted into a NumPy array)\n",
        "    Output:\n",
        "    \n",
        "    HFD\n",
        "    \"\"\"\n",
        "    k, L = curve_length(X,**kwargs)\n",
        "    return lin_fit_hfd(k, L);\n",
        "\n",
        "# Generating th interval\n",
        "def interval_t(size,num_val=50,kmax=None):\n",
        "    list_space = []\n",
        "    ### Generate sequence of interval times, k\n",
        "    if kmax is None:\n",
        "        k_stop = size//2\n",
        "    else:\n",
        "        k_stop = kmax\n",
        "    if k_stop > size//2:   ## prohibit going larger than N/2\n",
        "        k_stop = size//2\n",
        "        print(\"Warning: k cannot be longer than N/2\")\n",
        "    for i in range(2, k_stop):\n",
        "      list_space.append(i)    \n",
        "    #k = np.logspace(start=np.log2(2),stop=np.log2(k_stop),base=2,num=num_val,dtype=np.int)\n",
        "    return np.unique(list_space);\n",
        "\n",
        "def init_lib():\n",
        "    libdir = os.path.dirname(__file__)\n",
        "    libfile = os.path.join(libdir, \"libhfd.so\")\n",
        "    lib = ctypes.CDLL(libfile)\n",
        "\n",
        "    rwptr = ndpointer(float, flags=('C','A','W'))\n",
        "    rwptr_sizet = ndpointer(ctypes.c_size_t, flags=('C','A','W'))\n",
        "\n",
        "    lib.curve_length.restype = ctypes.c_int\n",
        "    lib.curve_length.argtypes = [rwptr_sizet, ctypes.c_size_t, rwptr, ctypes.c_size_t, rwptr]\n",
        "\n",
        "    return lib;"
      ],
      "execution_count": 2,
      "outputs": []
    },
    {
      "cell_type": "code",
      "metadata": {
        "id": "OHC-kmGRs3Qz",
        "colab_type": "code",
        "colab": {
          "base_uri": "https://localhost:8080/",
          "height": 54
        },
        "outputId": "b991618e-9bf9-4912-8635-2191fcb45dc0"
      },
      "source": [
        "# Validation of the algorithm\n",
        "x = np.random.randn(1000)\n",
        "y = np.empty(990)\n",
        "for i in range(x.size-10):\n",
        "\ty[i] = np.sum(x[:(i+10)])\n",
        "\t\n",
        "## Note x is a Guassian noise, y is the original Brownian data used in Higuchi, Physica D, 1988.\n",
        "\n",
        "print(hfd(x)) # ~ 2.00\n",
        "print(hfd(y)) # ~ 1.50\n",
        "#print(a, b)"
      ],
      "execution_count": 3,
      "outputs": [
        {
          "output_type": "stream",
          "text": [
            "2.001489756256754\n",
            "1.6933688470384876\n"
          ],
          "name": "stdout"
        }
      ]
    },
    {
      "cell_type": "code",
      "metadata": {
        "id": "MuOmp7owT0Si",
        "colab_type": "code",
        "colab": {}
      },
      "source": [
        "k, l = curve_length((x))\n",
        "#print(k, l)"
      ],
      "execution_count": 4,
      "outputs": []
    },
    {
      "cell_type": "code",
      "metadata": {
        "id": "1wGNxH1gUcBA",
        "colab_type": "code",
        "colab": {
          "base_uri": "https://localhost:8080/",
          "height": 295
        },
        "outputId": "e7bf0685-8820-4615-e2b3-e0e862b37c92"
      },
      "source": [
        "import math\n",
        "x = k #k_interval_times\n",
        "y = l #curve_length_list\n",
        "#x = np.logspace(curve_length[0], curve_length[len(curve_length) - 1], len(curve_length))\n",
        "#log_y = []\n",
        "#for i in curve_length_list:\n",
        "#  log_y.append(math.log10(i))\n",
        "#y = log_y\n",
        "#y = np.logspace(k_interval_times[0], k_interval_times[len(k_interval_times) - 1], len(k_interval_times)) \n",
        "\n",
        "plt.title(\"TEST\") \n",
        "plt.xlabel(\"k\") \n",
        "plt.ylabel(\"<L(k)>\") \n",
        "plt.plot(x,y) \n",
        "plt.show()"
      ],
      "execution_count": 6,
      "outputs": [
        {
          "output_type": "display_data",
          "data": {
            "image/png": "[encoded data removed]",
            "text/plain": [
              "<Figure size 432x288 with 1 Axes>"
            ]
          },
          "metadata": {
            "tags": [],
            "needs_background": "light"
          }
        }
      ]
    },
    {
      "cell_type": "code",
      "metadata": {
        "id": "RVkQxqftakTI",
        "colab_type": "code",
        "colab": {
          "base_uri": "https://localhost:8080/",
          "height": 244
        },
        "outputId": "32a9955b-82e8-4762-ecb1-c47089547fa5"
      },
      "source": [
        "import numpy as np\n",
        "import pylab\n",
        "Polynomial = np.polynomial.Polynomial\n",
        "\n",
        "# The data: conc = [P] and absorbance, A\n",
        "#conc = k_interval_times\n",
        "\n",
        "log_x = []\n",
        "for i in k_interval_times:\n",
        "  log_x.append(math.log10(i))\n",
        "conc = log_x #np.array(log_x, dtype=np.int)\n",
        "#A = curve_length_list\n",
        "\n",
        "\n",
        "log_y = []\n",
        "for i in curve_length_list:\n",
        "  log_y.append(math.log10(i))\n",
        "A = log_y #np.array(log_y, dtype=np.int)\n",
        "#np.array(data, dtype=np.float32)\n",
        "#int_array = float_array.astype(int)\n",
        "\n",
        "\n",
        "cmin, cmax = min(conc), max(conc)\n",
        "pfit, stats = Polynomial.fit(conc, A, 1, full=True, window=(cmin, cmax),\n",
        "                                                    domain=(cmin, cmax))\n",
        "\n",
        "print('Raw fit results:', pfit, stats, sep='\\n')\n",
        "\n",
        "A0, m = pfit\n",
        "resid, rank, sing_val, rcond = stats\n",
        "rms = np.sqrt(resid[0]/len(A))\n",
        "\n",
        "print('Fit: A = {:.3f}[P] + {:.3f}'.format(m, A0),\n",
        "      '(rms residual = {:.4f})'.format(rms))\n",
        "\n",
        "#res = [element * pfit for element in conc]\n",
        "pylab.scatter(conc, A)\n",
        "plt.title(\"TEST\")\n",
        "pylab.plot(conc, pfit(np.array(conc, dtype=np.float32)), color='k')\n",
        "pylab.xlabel('log <L(k)>')\n",
        "pylab.ylabel('log k')\n",
        "pylab.show()"
      ],
      "execution_count": 7,
      "outputs": [
        {
          "output_type": "error",
          "ename": "NameError",
          "evalue": "ignored",
          "traceback": [
            "\u001b[0;31m---------------------------------------------------------------------------\u001b[0m",
            "\u001b[0;31mNameError\u001b[0m                                 Traceback (most recent call last)",
            "\u001b[0;32m<ipython-input-7-bcfadff9a408>\u001b[0m in \u001b[0;36m<module>\u001b[0;34m()\u001b[0m\n\u001b[1;32m      7\u001b[0m \u001b[0;34m\u001b[0m\u001b[0m\n\u001b[1;32m      8\u001b[0m \u001b[0mlog_x\u001b[0m \u001b[0;34m=\u001b[0m \u001b[0;34m[\u001b[0m\u001b[0;34m]\u001b[0m\u001b[0;34m\u001b[0m\u001b[0;34m\u001b[0m\u001b[0m\n\u001b[0;32m----> 9\u001b[0;31m \u001b[0;32mfor\u001b[0m \u001b[0mi\u001b[0m \u001b[0;32min\u001b[0m \u001b[0mk_interval_times\u001b[0m\u001b[0;34m:\u001b[0m\u001b[0;34m\u001b[0m\u001b[0;34m\u001b[0m\u001b[0m\n\u001b[0m\u001b[1;32m     10\u001b[0m   \u001b[0mlog_x\u001b[0m\u001b[0;34m.\u001b[0m\u001b[0mappend\u001b[0m\u001b[0;34m(\u001b[0m\u001b[0mmath\u001b[0m\u001b[0;34m.\u001b[0m\u001b[0mlog10\u001b[0m\u001b[0;34m(\u001b[0m\u001b[0mi\u001b[0m\u001b[0;34m)\u001b[0m\u001b[0;34m)\u001b[0m\u001b[0;34m\u001b[0m\u001b[0;34m\u001b[0m\u001b[0m\n\u001b[1;32m     11\u001b[0m \u001b[0mconc\u001b[0m \u001b[0;34m=\u001b[0m \u001b[0mlog_x\u001b[0m \u001b[0;31m#np.array(log_x, dtype=np.int)\u001b[0m\u001b[0;34m\u001b[0m\u001b[0;34m\u001b[0m\u001b[0m\n",
            "\u001b[0;31mNameError\u001b[0m: name 'k_interval_times' is not defined"
          ]
        }
      ]
    },
    {
      "cell_type": "markdown",
      "metadata": {
        "id": "tc4bSgPjwH_C",
        "colab_type": "text"
      },
      "source": [
        "#Data Preprocessing"
      ]
    },
    {
      "cell_type": "code",
      "metadata": {
        "id": "s5wlRg_5wKNF",
        "colab_type": "code",
        "colab": {
          "base_uri": "https://localhost:8080/",
          "height": 198
        },
        "outputId": "f214e07a-caa1-4859-d672-a3cfd1679729"
      },
      "source": [
        "data = pd.read_csv('/content/DATA2.csv')\n",
        "data.head()"
      ],
      "execution_count": 9,
      "outputs": [
        {
          "output_type": "execute_result",
          "data": {
            "text/html": [
              "<div>\n",
              "<style scoped>\n",
              "    .dataframe tbody tr th:only-of-type {\n",
              "        vertical-align: middle;\n",
              "    }\n",
              "\n",
              "    .dataframe tbody tr th {\n",
              "        vertical-align: top;\n",
              "    }\n",
              "\n",
              "    .dataframe thead th {\n",
              "        text-align: right;\n",
              "    }\n",
              "</style>\n",
              "<table border=\"1\" class=\"dataframe\">\n",
              "  <thead>\n",
              "    <tr style=\"text-align: right;\">\n",
              "      <th></th>\n",
              "      <th>SNO.</th>\n",
              "      <th>MAHARASHTRA</th>\n",
              "      <th>ANDHRA PRADESH</th>\n",
              "      <th>TAMIL NADU</th>\n",
              "      <th>KARNATAKA</th>\n",
              "      <th>UTTAR PRADESH</th>\n",
              "      <th>DELHI INCREASING</th>\n",
              "      <th>DELHI RECEDING</th>\n",
              "      <th>WEST BENGAL</th>\n",
              "    </tr>\n",
              "  </thead>\n",
              "  <tbody>\n",
              "    <tr>\n",
              "      <th>0</th>\n",
              "      <td>NaN</td>\n",
              "      <td>NaN</td>\n",
              "      <td>NaN</td>\n",
              "      <td>NaN</td>\n",
              "      <td>NaN</td>\n",
              "      <td>NaN</td>\n",
              "      <td>NaN</td>\n",
              "      <td>NaN</td>\n",
              "      <td>NaN</td>\n",
              "    </tr>\n",
              "    <tr>\n",
              "      <th>1</th>\n",
              "      <td>1.0</td>\n",
              "      <td>33.0</td>\n",
              "      <td>67.0</td>\n",
              "      <td>110.0</td>\n",
              "      <td>9.0</td>\n",
              "      <td>13.0</td>\n",
              "      <td>32.00</td>\n",
              "      <td>2954.0</td>\n",
              "      <td>37.0</td>\n",
              "    </tr>\n",
              "    <tr>\n",
              "      <th>2</th>\n",
              "      <td>2.0</td>\n",
              "      <td>62.0</td>\n",
              "      <td>40.0</td>\n",
              "      <td>96.0</td>\n",
              "      <td>9.0</td>\n",
              "      <td>23.0</td>\n",
              "      <td>88.67</td>\n",
              "      <td>2716.0</td>\n",
              "      <td>18.0</td>\n",
              "    </tr>\n",
              "    <tr>\n",
              "      <th>3</th>\n",
              "      <td>3.0</td>\n",
              "      <td>89.0</td>\n",
              "      <td>42.0</td>\n",
              "      <td>89.0</td>\n",
              "      <td>10.0</td>\n",
              "      <td>35.0</td>\n",
              "      <td>76.60</td>\n",
              "      <td>2512.0</td>\n",
              "      <td>16.0</td>\n",
              "    </tr>\n",
              "    <tr>\n",
              "      <th>4</th>\n",
              "      <td>4.0</td>\n",
              "      <td>107.0</td>\n",
              "      <td>38.0</td>\n",
              "      <td>77.0</td>\n",
              "      <td>11.0</td>\n",
              "      <td>38.0</td>\n",
              "      <td>74.60</td>\n",
              "      <td>2397.0</td>\n",
              "      <td>9.0</td>\n",
              "    </tr>\n",
              "  </tbody>\n",
              "</table>\n",
              "</div>"
            ],
            "text/plain": [
              "   SNO.  MAHARASHTRA  ...  DELHI RECEDING  WEST BENGAL\n",
              "0   NaN          NaN  ...             NaN          NaN\n",
              "1   1.0         33.0  ...          2954.0         37.0\n",
              "2   2.0         62.0  ...          2716.0         18.0\n",
              "3   3.0         89.0  ...          2512.0         16.0\n",
              "4   4.0        107.0  ...          2397.0          9.0\n",
              "\n",
              "[5 rows x 9 columns]"
            ]
          },
          "metadata": {
            "tags": []
          },
          "execution_count": 9
        }
      ]
    },
    {
      "cell_type": "code",
      "metadata": {
        "id": "lyR1hPK3yPVt",
        "colab_type": "code",
        "colab": {}
      },
      "source": [
        "maha = data.MAHARASHTRA\n",
        "print(maha[1:154])\n",
        "\n",
        "andhra = data['ANDHRA PRADESH']\n",
        "print(andhra[1:154])\n",
        "\n",
        "tamil = data['TAMIL NADU']\n",
        "print(tamil[1:154])\n",
        "\n",
        "karna = data.KARNATAKA\n",
        "print(karna[1:154])\n",
        "\n",
        "up = data['UTTAR PRADESH']\n",
        "print(up[1:154])\n",
        "\n",
        "delhi_up = data['DELHI INCREASING']\n",
        "print(delhi_up[1:88])\n",
        "\n",
        "delhi_down = data['DELHI RECEDING']\n",
        "print(delhi_down[1:67])\n",
        "\n",
        "wb = data['WEST BENGAL']\n",
        "print(wb[1:154])"
      ],
      "execution_count": null,
      "outputs": []
    },
    {
      "cell_type": "code",
      "metadata": {
        "id": "LdPlsMqOfVtl",
        "colab_type": "code",
        "colab": {
          "base_uri": "https://localhost:8080/",
          "height": 35
        },
        "outputId": "eda247c5-31ca-4aa7-c97c-ea22ae5b1244"
      },
      "source": [
        "import pandas\n",
        "print(pandas.__version__)"
      ],
      "execution_count": 11,
      "outputs": [
        {
          "output_type": "stream",
          "text": [
            "1.0.5\n"
          ],
          "name": "stdout"
        }
      ]
    },
    {
      "cell_type": "code",
      "metadata": {
        "id": "3jlBlpea0S2F",
        "colab_type": "code",
        "colab": {}
      },
      "source": [
        "# convert dataframe to np.array\n",
        "import numpy\n",
        "maha_np_array = data['MAHARASHTRA'].to_numpy()\n",
        "#maha_np_array = list(numpy.concatenate().flat)) \n",
        "print(maha_np_array[1:154])\n",
        "\n",
        "andhra_np_array = andhra.to_numpy()\n",
        "print(andhra_np_array[1:154])\n",
        "\n",
        "tamil_np_array = tamil.to_numpy()\n",
        "print(tamil_np_array[1:154])\n",
        "\n",
        "karna_np_array = karna.to_numpy()\n",
        "print(karna_np_array[1:154])\n",
        "\n",
        "up_np_array = up.to_numpy()\n",
        "print(up_np_array[1:154])\n",
        "\n",
        "delhi_up_np_array = delhi_up.to_numpy()\n",
        "print(delhi_up_np_array[1:88])\n",
        "\n",
        "delhi_down_np_array = delhi_down.to_numpy()\n",
        "print(delhi_down_np_array[1:67])\n",
        "\n",
        "wb_np_array = wb.to_numpy()\n",
        "print(wb_np_array[1:154])"
      ],
      "execution_count": null,
      "outputs": []
    },
    {
      "cell_type": "markdown",
      "metadata": {
        "id": "F7SgkNZyi1s-",
        "colab_type": "text"
      },
      "source": [
        "#MAHARASHTRA\n",
        "\n"
      ]
    },
    {
      "cell_type": "code",
      "metadata": {
        "id": "yYd5_UsaycFx",
        "colab_type": "code",
        "colab": {
          "base_uri": "https://localhost:8080/",
          "height": 472
        },
        "outputId": "326bad7f-d5a9-4879-a676-190e5067ffab"
      },
      "source": [
        "# inputs to Higuchi Algorithm\n",
        "\n",
        "# k_value = int(input(\"Enter the bound og 'k' \"))\n",
        "data_list = maha_np_array[1:154]\n",
        "#data_list = data_list.reshape(-1)\n",
        "print(data_list.shape)\n",
        "num_k =  int(input(\"Number of k values to generate: \"))  #number of k values to generate.\n",
        "k_max =  int(input(\"Max. k value: \"))  #the maximum k the k array is generated uniformly in log space from 2 to k_max\n",
        "\n",
        "k_interval_times, curve_length_list = curve_length(data_list, num_k, k_max)\n",
        "print(k_interval_times, curve_length_list)"
      ],
      "execution_count": 13,
      "outputs": [
        {
          "output_type": "stream",
          "text": [
            "(153,)\n",
            "Number of k values to generate: 75\n",
            "Max. k value: 14\n",
            "[ 2  3  4  5  6  7  8  9 10 11 12 13 14 15 16 17 18 19 20 21 22 23 24 25\n",
            " 26 27 28 29 30 31 32 33 34 35 36 37 38 39 40 41 42 43 44 45 46 47 48 49\n",
            " 50 51 52 53 54 55 56 57 58 59 60 61 62 63 64 65 66 67 68 69 70 71 72 73\n",
            " 74 75] [13612.54333333  7888.57481481  5054.38344595  3503.97108966\n",
            "  2598.36493827  2107.39675135  1800.515625    1623.8484225\n",
            "  1471.8232381   1333.35425456  1203.46061308  1101.10845368\n",
            "  1017.75066408   947.52771687   885.33794488   833.17687767\n",
            "   789.75614834   750.01385042   712.41811905   679.25197834\n",
            "   650.8401703    623.87003096   599.52806713   577.0639872\n",
            "   555.85464269   535.39090586   514.9976312    496.51785641\n",
            "   479.19463704   464.05214103   450.07177734   437.73577835\n",
            "   425.39683832   412.37319339   400.98812586   389.29925835\n",
            "   380.22645429   371.67855156   363.64614583   356.31191267\n",
            "   348.43317856   341.54929755   334.72927623   327.96554184\n",
            "   320.99047971   313.77532917   307.13505498   299.72850315\n",
            "   293.578272     287.18043588   280.83050751   275.33811133\n",
            "   270.65757252   266.10346506   261.94371811   258.12373038\n",
            "   254.16171225   249.84057766   245.88814815   242.22825699\n",
            "   238.33708167   234.31775626   230.80233765   227.83838325\n",
            "   224.77121073   221.58898535   218.59909933   214.89157375\n",
            "   211.19159184   208.05523161   204.98037766   201.50958956\n",
            "   198.31543048   195.89075437]\n"
          ],
          "name": "stdout"
        }
      ]
    },
    {
      "cell_type": "code",
      "metadata": {
        "id": "X3L0lfkiQuIl",
        "colab_type": "code",
        "colab": {
          "base_uri": "https://localhost:8080/",
          "height": 35
        },
        "outputId": "923da3ce-f480-4ee3-9599-8c505b99fc4a"
      },
      "source": [
        "hfd(data_list)"
      ],
      "execution_count": 14,
      "outputs": [
        {
          "output_type": "execute_result",
          "data": {
            "text/plain": [
              "1.07049676773535"
            ]
          },
          "metadata": {
            "tags": []
          },
          "execution_count": 14
        }
      ]
    },
    {
      "cell_type": "code",
      "metadata": {
        "id": "Pab_hsovUFuw",
        "colab_type": "code",
        "colab": {
          "base_uri": "https://localhost:8080/",
          "height": 295
        },
        "outputId": "4c054239-b606-4ec7-d7dd-2cb19207a72b"
      },
      "source": [
        "import math\n",
        "x = k_interval_times\n",
        "y = curve_length_list\n",
        "#x = np.logspace(curve_length[0], curve_length[len(curve_length) - 1], len(curve_length))\n",
        "#log_y = []\n",
        "#for i in curve_length_list:\n",
        "#  log_y.append(math.log10(i))\n",
        "#y = log_y\n",
        "#y = np.logspace(k_interval_times[0], k_interval_times[len(k_interval_times) - 1], len(k_interval_times)) \n",
        "\n",
        "plt.title(\"Maharastra\") \n",
        "plt.xlabel(\"k\") \n",
        "plt.ylabel(\"<L(k)>\") \n",
        "plt.plot(x,y) \n",
        "plt.show()"
      ],
      "execution_count": 15,
      "outputs": [
        {
          "output_type": "display_data",
          "data": {
            "image/png": "[encoded data removed]",
            "text/plain": [
              "<Figure size 432x288 with 1 Axes>"
            ]
          },
          "metadata": {
            "tags": [],
            "needs_background": "light"
          }
        }
      ]
    },
    {
      "cell_type": "code",
      "metadata": {
        "id": "PM6F5FVPGlVm",
        "colab_type": "code",
        "colab": {
          "base_uri": "https://localhost:8080/",
          "height": 380
        },
        "outputId": "7ae4bc90-6d16-47bb-ecc2-384e9931c003"
      },
      "source": [
        "import numpy as np\n",
        "import pylab\n",
        "Polynomial = np.polynomial.Polynomial\n",
        "\n",
        "# The data: conc = [P] and absorbance, A\n",
        "#conc = k_interval_times\n",
        "\n",
        "log_x = []\n",
        "for i in k_interval_times:\n",
        "  log_x.append(math.log10(i))\n",
        "conc = log_x #np.array(log_x, dtype=np.int)\n",
        "#A = curve_length_list\n",
        "\n",
        "\n",
        "log_y = []\n",
        "for i in curve_length_list:\n",
        "  log_y.append(math.log10(i))\n",
        "A = log_y #np.array(log_y, dtype=np.int)\n",
        "#np.array(data, dtype=np.float32)\n",
        "#int_array = float_array.astype(int)\n",
        "\n",
        "\n",
        "cmin, cmax = min(conc), max(conc)\n",
        "pfit, stats = Polynomial.fit(conc, A, 1, full=True, window=(cmin, cmax),\n",
        "                                                    domain=(cmin, cmax))\n",
        "\n",
        "print('Raw fit results:', pfit, stats, sep='\\n')\n",
        "\n",
        "A0, m = pfit\n",
        "resid, rank, sing_val, rcond = stats\n",
        "rms = np.sqrt(resid[0]/len(A))\n",
        "\n",
        "print('Fit: A = {:.3f}[P] + {:.3f}'.format(m, A0),\n",
        "      '(rms residual = {:.4f})'.format(rms))\n",
        "\n",
        "#res = [element * pfit for element in conc]\n",
        "pylab.scatter(conc, A)\n",
        "plt.title(\"MAHARASHTRA\")\n",
        "pylab.plot(conc, pfit(np.array(conc, dtype=np.float32)), color='k')\n",
        "pylab.ylabel('log <L(k)>')\n",
        "pylab.xlabel('log k\\n- best fitted straight line')\n",
        "pylab.show()"
      ],
      "execution_count": 16,
      "outputs": [
        {
          "output_type": "stream",
          "text": [
            "Raw fit results:\n",
            "poly([ 4.27747729 -1.07049677])\n",
            "[array([0.09368093]), 2, array([1.40423584, 0.1676953 ]), 1.6431300764452317e-14]\n",
            "Fit: A = -1.070[P] + 4.277 (rms residual = 0.0356)\n"
          ],
          "name": "stdout"
        },
        {
          "output_type": "display_data",
          "data": {
            "image/png": "[encoded data removed]",
            "text/plain": [
              "<Figure size 432x288 with 1 Axes>"
            ]
          },
          "metadata": {
            "tags": [],
            "needs_background": "light"
          }
        }
      ]
    },
    {
      "cell_type": "markdown",
      "metadata": {
        "id": "ZGMTruyfi5hr",
        "colab_type": "text"
      },
      "source": [
        "#ANDHRA PRADESH"
      ]
    },
    {
      "cell_type": "code",
      "metadata": {
        "id": "dBZo9GTwjxde",
        "colab_type": "code",
        "colab": {
          "base_uri": "https://localhost:8080/",
          "height": 399
        },
        "outputId": "323623e3-ef4f-4af5-f617-2ae725a914df"
      },
      "source": [
        "# k_value = int(input(\"Enter the bound og 'k' \"))\n",
        "data_list = andhra_np_array[1:154]\n",
        "#data_list = data_list.reshape(-1)\n",
        "print(data_list.shape)\n",
        "num_k =  int(input(\"Number of k values to generate: \"))  #number of k values to generate.\n",
        "k_max =  int(input(\"Max. k value: \"))  #the maximum k the k array is generated uniformly in log space from 2 to k_max\n",
        "\n",
        "k_interval_times, curve_length_list = curve_length(data_list, num_k, k_max)\n",
        "print(k_interval_times, curve_length_list)"
      ],
      "execution_count": 17,
      "outputs": [
        {
          "output_type": "stream",
          "text": [
            "(153,)\n",
            "Number of k values to generate: 75\n",
            "Max. k value: 14\n",
            "[ 2  3  4  5  6  7  8  9 10 11 12 13 14 15 16 17 18 19 20 21 22 23 24 25\n",
            " 26 27 28 29 30 31 32 33 34 35 36 37 38 39 40 41 42 43 44 45 46 47 48 49\n",
            " 50 51 52 53 54 55 56 57 58 59 60 61 62 63 64 65 66 67 68 69 70 71 72 73\n",
            " 74 75] [8185.28333333 5059.46074074 3575.2652027  2700.39496092 2167.25141975\n",
            " 1812.32936277 1560.53819444 1360.75445816 1207.6248     1086.39195515\n",
            "  990.17774972  909.48291472  832.86903142  770.00823045  718.59933811\n",
            "  669.66008549  625.96585342  583.17728532  545.05480952  520.20575789\n",
            "  501.82031054  485.6042081   468.50686728  451.9998464   440.08782431\n",
            "  429.32489966  415.79187318  402.70402231  390.64872593  381.3359292\n",
            "  376.21484375  370.13757409  361.64970486  351.42902235  341.56615798\n",
            "  331.66221152  322.72045245  316.6109341   311.59960417  306.57850776\n",
            "  300.24657164  293.81817115  286.37753569  278.37086786  269.89359196\n",
            "  261.37354279  253.37227527  245.61569867  238.66209067  231.78421572\n",
            "  222.52787893  213.95135582  206.45643449  200.04204959  194.9456086\n",
            "  191.03642146  187.85374554  184.74476943  182.20331481  180.23385217\n",
            "  177.88288409  175.48384104  173.42080688  171.39151934  168.99066422\n",
            "  166.4205504   163.79958783  160.82385566  157.97962682  155.48519045\n",
            "  152.963113    150.49843066  148.23117091  146.22264889]\n"
          ],
          "name": "stdout"
        }
      ]
    },
    {
      "cell_type": "code",
      "metadata": {
        "id": "G4YEOv5ZkPid",
        "colab_type": "code",
        "colab": {
          "base_uri": "https://localhost:8080/",
          "height": 35
        },
        "outputId": "71d944e8-65b1-4365-abea-bbcd5d1b6611"
      },
      "source": [
        "hfd(data_list)"
      ],
      "execution_count": 18,
      "outputs": [
        {
          "output_type": "execute_result",
          "data": {
            "text/plain": [
              "1.063517123545483"
            ]
          },
          "metadata": {
            "tags": []
          },
          "execution_count": 18
        }
      ]
    },
    {
      "cell_type": "code",
      "metadata": {
        "id": "xYYXi7A6kWyk",
        "colab_type": "code",
        "colab": {
          "base_uri": "https://localhost:8080/",
          "height": 295
        },
        "outputId": "202c224b-08d7-4427-d56c-8fc2ffb8dad6"
      },
      "source": [
        "import math\n",
        "x = k_interval_times\n",
        "#x = np.logspace(curve_length[0], curve_length[len(curve_length) - 1], len(curve_length))\n",
        "#log_y = []\n",
        "#for i in curve_length_list:\n",
        "  #log_y.append(math.log10(i))\n",
        "#y = log_y\n",
        "y = curve_length_list\n",
        "#y = curve_length_list\n",
        "#y = np.logspace(k_interval_times[0], k_interval_times[len(k_interval_times) - 1], len(k_interval_times)) \n",
        "\n",
        "plt.title(\"Andhra Pradesh\") \n",
        "plt.xlabel(\"k\") \n",
        "plt.ylabel(\"<L(k)>\") \n",
        "plt.plot(x,y) \n",
        "plt.show()"
      ],
      "execution_count": 19,
      "outputs": [
        {
          "output_type": "display_data",
          "data": {
            "image/png": "[encoded data removed]",
            "text/plain": [
              "<Figure size 432x288 with 1 Axes>"
            ]
          },
          "metadata": {
            "tags": [],
            "needs_background": "light"
          }
        }
      ]
    },
    {
      "cell_type": "code",
      "metadata": {
        "id": "jBq1xRH1-ICV",
        "colab_type": "code",
        "colab": {
          "base_uri": "https://localhost:8080/",
          "height": 380
        },
        "outputId": "e3773ee6-83ba-4b9c-f0fb-c84810743532"
      },
      "source": [
        "import numpy as np\n",
        "import pylab\n",
        "Polynomial = np.polynomial.Polynomial\n",
        "\n",
        "# The data: conc = [P] and absorbance, A\n",
        "#conc = k_interval_times\n",
        "\n",
        "log_x = []\n",
        "for i in k_interval_times:\n",
        "  log_x.append(math.log10(i))\n",
        "conc = log_x #np.array(log_x, dtype=np.int)\n",
        "#A = curve_length_list\n",
        "\n",
        "\n",
        "log_y = []\n",
        "for i in curve_length_list:\n",
        "  log_y.append(math.log10(i))\n",
        "A = log_y #np.array(log_y, dtype=np.int)\n",
        "#np.array(data, dtype=np.float32)\n",
        "#int_array = float_array.astype(int)\n",
        "\n",
        "\n",
        "cmin, cmax = min(conc), max(conc)\n",
        "pfit, stats = Polynomial.fit(conc, A, 1, full=True, window=(cmin, cmax),\n",
        "                                                    domain=(cmin, cmax))\n",
        "\n",
        "print('Raw fit results:', pfit, stats, sep='\\n')\n",
        "\n",
        "A0, m = pfit\n",
        "resid, rank, sing_val, rcond = stats\n",
        "rms = np.sqrt(resid[0]/len(A))\n",
        "\n",
        "print('Fit: A = {:.3f}[P] + {:.3f}'.format(m, A0),\n",
        "      '(rms residual = {:.4f})'.format(rms))\n",
        "\n",
        "#res = [element * pfit for element in conc]\n",
        "pylab.scatter(conc, A)\n",
        "plt.title(\"ANDHRA PRADESH\")\n",
        "pylab.plot(conc, pfit(np.array(conc, dtype=np.float32)), color='k')\n",
        "pylab.ylabel('log <L(k)>')\n",
        "pylab.xlabel('log k\\n- best fitted straight line')\n",
        "pylab.show()"
      ],
      "execution_count": 20,
      "outputs": [
        {
          "output_type": "stream",
          "text": [
            "Raw fit results:\n",
            "poly([ 4.16486424 -1.06351712])\n",
            "[array([0.04195092]), 2, array([1.40423584, 0.1676953 ]), 1.6431300764452317e-14]\n",
            "Fit: A = -1.064[P] + 4.165 (rms residual = 0.0238)\n"
          ],
          "name": "stdout"
        },
        {
          "output_type": "display_data",
          "data": {
            "image/png": "[encoded data removed]",
            "text/plain": [
              "<Figure size 432x288 with 1 Axes>"
            ]
          },
          "metadata": {
            "tags": [],
            "needs_background": "light"
          }
        }
      ]
    },
    {
      "cell_type": "markdown",
      "metadata": {
        "id": "IuWx79dKjPBU",
        "colab_type": "text"
      },
      "source": [
        "#TAMIL NADU"
      ]
    },
    {
      "cell_type": "code",
      "metadata": {
        "id": "pKF7x8xCks-7",
        "colab_type": "code",
        "colab": {
          "base_uri": "https://localhost:8080/",
          "height": 399
        },
        "outputId": "5870075e-40c7-4ea5-f119-b21e88c03b3c"
      },
      "source": [
        "# k_value = int(input(\"Enter the bound og 'k' \"))\n",
        "data_list = tamil_np_array[1:154]\n",
        "#data_list = data_list.reshape(-1)\n",
        "print(data_list.shape)\n",
        "num_k =  int(input(\"Number of k values to generate: \"))  #number of k values to generate.\n",
        "k_max =  int(input(\"Max. k value: \"))  #the maximum k the k array is generated uniformly in log space from 2 to k_max\n",
        "\n",
        "k_interval_times, curve_length_list = curve_length(data_list, num_k, k_max)\n",
        "print(k_interval_times, curve_length_list)"
      ],
      "execution_count": 21,
      "outputs": [
        {
          "output_type": "stream",
          "text": [
            "(153,)\n",
            "Number of k values to generate: 75\n",
            "Max. k value: 14\n",
            "[ 2  3  4  5  6  7  8  9 10 11 12 13 14 15 16 17 18 19 20 21 22 23 24 25\n",
            " 26 27 28 29 30 31 32 33 34 35 36 37 38 39 40 41 42 43 44 45 46 47 48 49\n",
            " 50 51 52 53 54 55 56 57 58 59 60 61 62 63 64 65 66 67 68 69 70 71 72 73\n",
            " 74 75] [5319.52666667 3438.69037037 2481.16891892 1923.28849655 1550.7412963\n",
            " 1281.62399    1087.453125    931.3388203   812.58114286  719.82141825\n",
            "  650.0316358   592.48300575  539.58953677  499.30110947  461.50146484\n",
            "  434.91553023  412.53605722  390.13296399  376.12128571  356.75384228\n",
            "  338.6277736   325.92404592  315.17716049  301.08581547  289.15457442\n",
            "  279.44315399  269.43232507  260.48876133  252.47453333  244.87514126\n",
            "  239.64190674  234.4265613   228.63745844  222.49225267  216.28355053\n",
            "  210.28522167  204.58679594  203.11807909  201.7146875   199.32949319\n",
            "  195.93771371  192.18405088  188.45532807  184.58096022  180.60931207\n",
            "  176.52470069  172.4113016   168.30477097  164.23883733  160.16714537\n",
            "  158.48287437  156.83892072  155.23761622  153.66046582  152.3509703\n",
            "  151.44598338  151.01100906  150.55422414  149.66405556  148.37948551\n",
            "  146.75333154  144.85004819  142.83021545  140.90185526  138.91697971\n",
            "  136.74178007  134.40672705  131.97171463  129.43243149  126.82266821\n",
            "  124.23546811  121.67322251  119.14751347  116.69042252]\n"
          ],
          "name": "stdout"
        }
      ]
    },
    {
      "cell_type": "code",
      "metadata": {
        "id": "Z0A4wLQAk0BK",
        "colab_type": "code",
        "colab": {
          "base_uri": "https://localhost:8080/",
          "height": 35
        },
        "outputId": "937c4fc2-678a-4c18-c61d-2b14f7901b4c"
      },
      "source": [
        "hfd(data_list)"
      ],
      "execution_count": 22,
      "outputs": [
        {
          "output_type": "execute_result",
          "data": {
            "text/plain": [
              "1.0054068791382214"
            ]
          },
          "metadata": {
            "tags": []
          },
          "execution_count": 22
        }
      ]
    },
    {
      "cell_type": "code",
      "metadata": {
        "id": "g5vaUyRAk4Bj",
        "colab_type": "code",
        "colab": {
          "base_uri": "https://localhost:8080/",
          "height": 295
        },
        "outputId": "947b2c8b-d3c6-49c2-9950-9000cce41ae4"
      },
      "source": [
        "import math\n",
        "x = k_interval_times\n",
        "y = curve_length_list\n",
        "#x = np.logspace(curve_length[0], curve_length[len(curve_length) - 1], len(curve_length))\n",
        "#log_y = []\n",
        "#for i in curve_length_list:\n",
        " # log_y.append(math.log10(i))\n",
        "#y = log_y\n",
        "#y = curve_length_list\n",
        "#y = np.logspace(k_interval_times[0], k_interval_times[len(k_interval_times) - 1], len(k_interval_times)) \n",
        "\n",
        "plt.title(\"Tamil Nadu\") \n",
        "plt.xlabel(\"k\") \n",
        "plt.ylabel(\"<L(k)>\") \n",
        "plt.plot(x,y) \n",
        "plt.show()"
      ],
      "execution_count": 23,
      "outputs": [
        {
          "output_type": "display_data",
          "data": {
            "image/png": "[encoded data removed]",
            "text/plain": [
              "<Figure size 432x288 with 1 Axes>"
            ]
          },
          "metadata": {
            "tags": [],
            "needs_background": "light"
          }
        }
      ]
    },
    {
      "cell_type": "code",
      "metadata": {
        "id": "hxUKoN2U-eok",
        "colab_type": "code",
        "colab": {
          "base_uri": "https://localhost:8080/",
          "height": 380
        },
        "outputId": "5b00c829-27ac-4a0f-b381-a805eef82947"
      },
      "source": [
        "import numpy as np\n",
        "import pylab\n",
        "Polynomial = np.polynomial.Polynomial\n",
        "\n",
        "# The data: conc = [P] and absorbance, A\n",
        "#conc = k_interval_times\n",
        "\n",
        "log_x = []\n",
        "for i in k_interval_times:\n",
        "  log_x.append(math.log10(i))\n",
        "conc = log_x #np.array(log_x, dtype=np.int)\n",
        "#A = curve_length_list\n",
        "\n",
        "\n",
        "log_y = []\n",
        "for i in curve_length_list:\n",
        "  log_y.append(math.log10(i))\n",
        "A = log_y #np.array(log_y, dtype=np.int)\n",
        "#np.array(data, dtype=np.float32)\n",
        "#int_array = float_array.astype(int)\n",
        "\n",
        "\n",
        "cmin, cmax = min(conc), max(conc)\n",
        "pfit, stats = Polynomial.fit(conc, A, 1, full=True, window=(cmin, cmax),\n",
        "                                                    domain=(cmin, cmax))\n",
        "\n",
        "print('Raw fit results:', pfit, stats, sep='\\n')\n",
        "\n",
        "A0, m = pfit\n",
        "resid, rank, sing_val, rcond = stats\n",
        "rms = np.sqrt(resid[0]/len(A))\n",
        "\n",
        "print('Fit: A = {:.3f}[P] + {:.3f}'.format(m, A0),\n",
        "      '(rms residual = {:.4f})'.format(rms))\n",
        "\n",
        "#res = [element * pfit for element in conc]\n",
        "pylab.scatter(conc, A)\n",
        "plt.title(\"TAMIL NADU\")\n",
        "pylab.plot(conc, pfit(np.array(conc, dtype=np.float32)), color='k')\n",
        "pylab.ylabel('log <L(k)>')\n",
        "pylab.xlabel('log k\\n- best fitted straight line')\n",
        "pylab.show()"
      ],
      "execution_count": 24,
      "outputs": [
        {
          "output_type": "stream",
          "text": [
            "Raw fit results:\n",
            "poly([ 3.92691955 -1.00540688])\n",
            "[array([0.10272135]), 2, array([1.40423584, 0.1676953 ]), 1.6431300764452317e-14]\n",
            "Fit: A = -1.005[P] + 3.927 (rms residual = 0.0373)\n"
          ],
          "name": "stdout"
        },
        {
          "output_type": "display_data",
          "data": {
            "image/png": "[encoded data removed]",
            "text/plain": [
              "<Figure size 432x288 with 1 Axes>"
            ]
          },
          "metadata": {
            "tags": [],
            "needs_background": "light"
          }
        }
      ]
    },
    {
      "cell_type": "markdown",
      "metadata": {
        "id": "n30k8rPnjTL8",
        "colab_type": "text"
      },
      "source": [
        "#KARNATAKA"
      ]
    },
    {
      "cell_type": "code",
      "metadata": {
        "id": "M1VQDiRrlAX8",
        "colab_type": "code",
        "colab": {
          "base_uri": "https://localhost:8080/",
          "height": 399
        },
        "outputId": "9f3de333-7f8a-4a4c-d8a8-c9219ff6721d"
      },
      "source": [
        "# k_value = int(input(\"Enter the bound og 'k' \"))\n",
        "data_list = karna_np_array[1:154]\n",
        "#data_list = data_list.reshape(-1)\n",
        "print(data_list.shape)\n",
        "num_k =  int(input(\"Number of k values to generate: \"))  #number of k values to generate.\n",
        "k_max =  int(input(\"Max. k value: \"))  #the maximum k the k array is generated uniformly in log space from 2 to k_max\n",
        "\n",
        "k_interval_times, curve_length_list = curve_length(data_list, num_k, k_max)\n",
        "print(k_interval_times, curve_length_list)"
      ],
      "execution_count": 25,
      "outputs": [
        {
          "output_type": "stream",
          "text": [
            "(153,)\n",
            "Number of k values to generate: 75\n",
            "Max. k value: 14\n",
            "[ 2  3  4  5  6  7  8  9 10 11 12 13 14 15 16 17 18 19 20 21 22 23 24 25\n",
            " 26 27 28 29 30 31 32 33 34 35 36 37 38 39 40 41 42 43 44 45 46 47 48 49\n",
            " 50 51 52 53 54 55 56 57 58 59 60 61 62 63 64 65 66 67 68 69 70 71 72 73\n",
            " 74 75] [6921.40666667 3984.87703704 2792.64864865 2074.67770115 1594.9162963\n",
            " 1329.04089963 1135.02864583  981.81001372  873.16255238  785.01123119\n",
            "  710.61745932  656.16425704  612.62905734  572.78504033  537.91379123\n",
            "  509.71280277  484.36921909  455.67708746  433.58995238  411.46668312\n",
            "  392.30360631  376.26923098  361.00842978  347.3051648   334.76149294\n",
            "  323.13070162  312.74076166  301.30421091  291.16725926  281.17610464\n",
            "  273.37123617  265.8717014   259.28412715  253.02756074  246.23358196\n",
            "  239.45734047  233.52400739  228.14306827  223.46533333  218.39538022\n",
            "  213.16956412  208.59414475  203.6629414   199.35283036  195.51921865\n",
            "  191.39387868  186.86952643  182.22950188  178.32295467  173.78860318\n",
            "  169.30658284  165.33191829  161.86729665  158.48746506  155.29635113\n",
            "  152.36524059  149.78480052  147.33333009  145.00377778  142.50121376\n",
            "  139.83441308  137.26485021  135.00593567  132.6748985   130.2663411\n",
            "  127.93348916  126.12033126  124.21275521  122.37617493  120.57255575\n",
            "  118.56002443  116.55858741  114.88430103  113.51350993]\n"
          ],
          "name": "stdout"
        }
      ]
    },
    {
      "cell_type": "code",
      "metadata": {
        "id": "5SpsRVlmlGIK",
        "colab_type": "code",
        "colab": {
          "base_uri": "https://localhost:8080/",
          "height": 35
        },
        "outputId": "d2639186-ca6b-4d23-dafa-c95788496590"
      },
      "source": [
        "hfd(data_list)"
      ],
      "execution_count": 26,
      "outputs": [
        {
          "output_type": "execute_result",
          "data": {
            "text/plain": [
              "1.060731949937118"
            ]
          },
          "metadata": {
            "tags": []
          },
          "execution_count": 26
        }
      ]
    },
    {
      "cell_type": "code",
      "metadata": {
        "id": "vpmCQbAWlSID",
        "colab_type": "code",
        "colab": {
          "base_uri": "https://localhost:8080/",
          "height": 295
        },
        "outputId": "0e54edc9-2046-4f95-81eb-da10ee818e64"
      },
      "source": [
        "import math\n",
        "x = k_interval_times\n",
        "#x = np.logspace(curve_length[0], curve_length[len(curve_length) - 1], len(curve_length))\n",
        "#log_y = []\n",
        "#for i in curve_length_list:\n",
        "#  log_y.append(math.log10(i))\n",
        "#y = log_y\n",
        "y = curve_length_list\n",
        "#y = np.logspace(k_interval_times[0], k_interval_times[len(k_interval_times) - 1], len(k_interval_times)) \n",
        "\n",
        "plt.title(\"Karnataka\") \n",
        "plt.xlabel(\"k\") \n",
        "plt.ylabel(\"<L(k)>\") \n",
        "plt.plot(x,y) \n",
        "plt.show()"
      ],
      "execution_count": 27,
      "outputs": [
        {
          "output_type": "display_data",
          "data": {
            "image/png": "[encoded data removed]",
            "text/plain": [
              "<Figure size 432x288 with 1 Axes>"
            ]
          },
          "metadata": {
            "tags": [],
            "needs_background": "light"
          }
        }
      ]
    },
    {
      "cell_type": "code",
      "metadata": {
        "id": "tK-AdIBy-ndV",
        "colab_type": "code",
        "colab": {
          "base_uri": "https://localhost:8080/",
          "height": 380
        },
        "outputId": "f616c1b9-b2b4-4f05-931b-816880e992f5"
      },
      "source": [
        "import numpy as np\n",
        "import pylab\n",
        "Polynomial = np.polynomial.Polynomial\n",
        "\n",
        "# The data: conc = [P] and absorbance, A\n",
        "#conc = k_interval_times\n",
        "\n",
        "log_x = []\n",
        "for i in k_interval_times:\n",
        "  log_x.append(math.log10(i))\n",
        "conc = log_x #np.array(log_x, dtype=np.int)\n",
        "#A = curve_length_list\n",
        "\n",
        "\n",
        "log_y = []\n",
        "for i in curve_length_list:\n",
        "  log_y.append(math.log10(i))\n",
        "A = log_y #np.array(log_y, dtype=np.int)\n",
        "#np.array(data, dtype=np.float32)\n",
        "#int_array = float_array.astype(int)\n",
        "\n",
        "\n",
        "cmin, cmax = min(conc), max(conc)\n",
        "pfit, stats = Polynomial.fit(conc, A, 1, full=True, window=(cmin, cmax),\n",
        "                                                    domain=(cmin, cmax))\n",
        "\n",
        "print('Raw fit results:', pfit, stats, sep='\\n')\n",
        "\n",
        "A0, m = pfit\n",
        "resid, rank, sing_val, rcond = stats\n",
        "rms = np.sqrt(resid[0]/len(A))\n",
        "\n",
        "print('Fit: A = {:.3f}[P] + {:.3f}'.format(m, A0),\n",
        "      '(rms residual = {:.4f})'.format(rms))\n",
        "\n",
        "#res = [element * pfit for element in conc]\n",
        "pylab.scatter(conc, A)\n",
        "plt.title(\"KARNATAKA\")\n",
        "pylab.plot(conc, pfit(np.array(conc, dtype=np.float32)), color='k')\n",
        "pylab.ylabel('log <L(k)>')\n",
        "pylab.xlabel('log k\\n- best fitted straight line')\n",
        "pylab.show()"
      ],
      "execution_count": 28,
      "outputs": [
        {
          "output_type": "stream",
          "text": [
            "Raw fit results:\n",
            "poly([ 4.03879911 -1.06073195])\n",
            "[array([0.0418653]), 2, array([1.40423584, 0.1676953 ]), 1.6431300764452317e-14]\n",
            "Fit: A = -1.061[P] + 4.039 (rms residual = 0.0238)\n"
          ],
          "name": "stdout"
        },
        {
          "output_type": "display_data",
          "data": {
            "image/png": "[encoded data removed]",
            "text/plain": [
              "<Figure size 432x288 with 1 Axes>"
            ]
          },
          "metadata": {
            "tags": [],
            "needs_background": "light"
          }
        }
      ]
    },
    {
      "cell_type": "markdown",
      "metadata": {
        "id": "32yO6HjBjZVM",
        "colab_type": "text"
      },
      "source": [
        "#UTTAR PRADESH"
      ]
    },
    {
      "cell_type": "code",
      "metadata": {
        "id": "BxX8LRf7lwJ7",
        "colab_type": "code",
        "colab": {
          "base_uri": "https://localhost:8080/",
          "height": 399
        },
        "outputId": "52686715-c938-407c-bf1e-43ccd9fcfc22"
      },
      "source": [
        "# k_value = int(input(\"Enter the bound og 'k' \"))\n",
        "data_list = up_np_array[1:154]\n",
        "#data_list = data_list.reshape(-1)\n",
        "print(data_list.shape)\n",
        "num_k =  int(input(\"Number of k values to generate: \"))  #number of k values to generate.\n",
        "k_max =  int(input(\"Max. k value: \"))  #the maximum k the k array is generated uniformly in log space from 2 to k_max\n",
        "\n",
        "k_interval_times, curve_length_list = curve_length(data_list, num_k, k_max)\n",
        "print(k_interval_times, curve_length_list)"
      ],
      "execution_count": 29,
      "outputs": [
        {
          "output_type": "stream",
          "text": [
            "(153,)\n",
            "Number of k values to generate: 75\n",
            "Max. k value: 14\n",
            "[ 2  3  4  5  6  7  8  9 10 11 12 13 14 15 16 17 18 19 20 21 22 23 24 25\n",
            " 26 27 28 29 30 31 32 33 34 35 36 37 38 39 40 41 42 43 44 45 46 47 48 49\n",
            " 50 51 52 53 54 55 56 57 58 59 60 61 62 63 64 65 66 67 68 69 70 71 72 73\n",
            " 74 75] [3595.00333333 2187.44888889 1571.8597973  1216.7323954   993.29771605\n",
            "  834.2907122   717.84114583  629.84087791  562.42026667  507.23327361\n",
            "  463.76872896  426.85539786  394.90702948  368.39395556  344.25490994\n",
            "  323.84306941  306.46110131  291.8199446   277.62347619  265.50741718\n",
            "  254.52196344  244.78158955  235.2943287   226.83231573  218.65609923\n",
            "  211.56789107  203.98411079  196.91631473  190.60011852  184.96199076\n",
            "  179.86334229  175.25517804  170.58781125  165.44394947  160.74362711\n",
            "  156.21938812  151.91574331  147.43334626  143.495125    139.76320715\n",
            "  136.05895692  132.6062527   129.34798397  126.14234659  122.83163475\n",
            "  119.54611213  116.6526331   113.85949732  111.21819733  108.48696203\n",
            "  104.90267979  101.63264977   98.70144287   95.93792337   93.45893313\n",
            "   91.19770186   89.31339948   87.63836614   86.15831481   84.70590931\n",
            "   83.39374308   82.005303     80.71318054   79.62890487   78.57266884\n",
            "   77.46383697   76.38116986   75.21133363   74.06920117   73.03377655\n",
            "   72.14021776   71.25811983   70.39467554   69.63374459]\n"
          ],
          "name": "stdout"
        }
      ]
    },
    {
      "cell_type": "code",
      "metadata": {
        "id": "6JRPwGGnlqUy",
        "colab_type": "code",
        "colab": {
          "base_uri": "https://localhost:8080/",
          "height": 35
        },
        "outputId": "9dcac8eb-3e30-4646-bce8-2665101ac174"
      },
      "source": [
        "hfd(data_list)"
      ],
      "execution_count": 30,
      "outputs": [
        {
          "output_type": "execute_result",
          "data": {
            "text/plain": [
              "1.0553906811543339"
            ]
          },
          "metadata": {
            "tags": []
          },
          "execution_count": 30
        }
      ]
    },
    {
      "cell_type": "code",
      "metadata": {
        "id": "fHZg9rNnlVJj",
        "colab_type": "code",
        "colab": {
          "base_uri": "https://localhost:8080/",
          "height": 295
        },
        "outputId": "02ef0a5f-20ca-4ca3-cdea-15f58f286c28"
      },
      "source": [
        "import math\n",
        "x = k_interval_times\n",
        "#x = np.logspace(curve_length[0], curve_length[len(curve_length) - 1], len(curve_length))\n",
        "#log_y = []\n",
        "#for i in curve_length_list:\n",
        " # log_y.append(math.log10(i))\n",
        "#y = log_y\n",
        "y = curve_length_list\n",
        "#y = np.logspace(k_interval_times[0], k_interval_times[len(k_interval_times) - 1], len(k_interval_times)) \n",
        "\n",
        "plt.title(\"Uttar Pradesh\") \n",
        "plt.xlabel(\"k\") \n",
        "plt.ylabel(\"<L(k)>\") \n",
        "plt.plot(x,y) \n",
        "plt.show()"
      ],
      "execution_count": 31,
      "outputs": [
        {
          "output_type": "display_data",
          "data": {
            "image/png": "[encoded data removed]",
            "text/plain": [
              "<Figure size 432x288 with 1 Axes>"
            ]
          },
          "metadata": {
            "tags": [],
            "needs_background": "light"
          }
        }
      ]
    },
    {
      "cell_type": "code",
      "metadata": {
        "id": "9gN39QY2-u0B",
        "colab_type": "code",
        "colab": {
          "base_uri": "https://localhost:8080/",
          "height": 380
        },
        "outputId": "24b6a86a-2a0d-4f89-861b-bd8e11e5003f"
      },
      "source": [
        "import numpy as np\n",
        "import pylab\n",
        "Polynomial = np.polynomial.Polynomial\n",
        "\n",
        "# The data: conc = [P] and absorbance, A\n",
        "#conc = k_interval_times\n",
        "\n",
        "log_x = []\n",
        "for i in k_interval_times:\n",
        "  log_x.append(math.log10(i))\n",
        "conc = log_x #np.array(log_x, dtype=np.int)\n",
        "#A = curve_length_list\n",
        "\n",
        "\n",
        "log_y = []\n",
        "for i in curve_length_list:\n",
        "  log_y.append(math.log10(i))\n",
        "A = log_y #np.array(log_y, dtype=np.int)\n",
        "#np.array(data, dtype=np.float32)\n",
        "#int_array = float_array.astype(int)\n",
        "\n",
        "\n",
        "cmin, cmax = min(conc), max(conc)\n",
        "pfit, stats = Polynomial.fit(conc, A, 1, full=True, window=(cmin, cmax),\n",
        "                                                    domain=(cmin, cmax))\n",
        "\n",
        "print('Raw fit results:', pfit, stats, sep='\\n')\n",
        "\n",
        "A0, m = pfit\n",
        "resid, rank, sing_val, rcond = stats\n",
        "rms = np.sqrt(resid[0]/len(A))\n",
        "\n",
        "print('Fit: A = {:.3f}[P] + {:.3f}'.format(m, A0),\n",
        "      '(rms residual = {:.4f})'.format(rms))\n",
        "\n",
        "#res = [element * pfit for element in conc]\n",
        "pylab.scatter(conc, A)\n",
        "plt.title(\"UTTAR PRADESH\")\n",
        "pylab.plot(conc, pfit(np.array(conc, dtype=np.float32)), color='k')\n",
        "pylab.ylabel('log <L(k)>')\n",
        "pylab.xlabel('log k\\n- best fitted straight line')\n",
        "pylab.show()"
      ],
      "execution_count": 32,
      "outputs": [
        {
          "output_type": "stream",
          "text": [
            "Raw fit results:\n",
            "poly([ 3.82674021 -1.05539068])\n",
            "[array([0.01800765]), 2, array([1.40423584, 0.1676953 ]), 1.6431300764452317e-14]\n",
            "Fit: A = -1.055[P] + 3.827 (rms residual = 0.0156)\n"
          ],
          "name": "stdout"
        },
        {
          "output_type": "display_data",
          "data": {
            "image/png": "[encoded data removed]",
            "text/plain": [
              "<Figure size 432x288 with 1 Axes>"
            ]
          },
          "metadata": {
            "tags": [],
            "needs_background": "light"
          }
        }
      ]
    },
    {
      "cell_type": "markdown",
      "metadata": {
        "id": "AKvAI_RTjdRE",
        "colab_type": "text"
      },
      "source": [
        "# DELHI INC"
      ]
    },
    {
      "cell_type": "code",
      "metadata": {
        "id": "0Lib-cbmlxQb",
        "colab_type": "code",
        "colab": {
          "base_uri": "https://localhost:8080/",
          "height": 254
        },
        "outputId": "680943c3-ef31-44d2-e884-dde40ee1d352"
      },
      "source": [
        "# k_value = int(input(\"Enter the bound og 'k' \"))\n",
        "data_list = delhi_up_np_array[1:88]\n",
        "#data_list = data_list.reshape(-1)\n",
        "print(data_list.shape)\n",
        "num_k =  int(input(\"Number of k values to generate: \"))  #number of k values to generate.\n",
        "k_max =  int(input(\"Max. k value: \"))  #the maximum k the k array is generated uniformly in log space from 2 to k_max\n",
        "\n",
        "k_interval_times, curve_length_list = curve_length(data_list, num_k, k_max)\n",
        "print(k_interval_times, curve_length_list)"
      ],
      "execution_count": 33,
      "outputs": [
        {
          "output_type": "stream",
          "text": [
            "(87,)\n",
            "Number of k values to generate: 75\n",
            "Max. k value: 14\n",
            "[ 2  3  4  5  6  7  8  9 10 11 12 13 14 15 16 17 18 19 20 21 22 23 24 25\n",
            " 26 27 28 29 30 31 32 33 34 35 36 37 38 39 40 41 42] [2051.05720238 1305.29685185  940.99229167  742.89258588  616.01768061\n",
            "  523.50976632  453.37484852  398.14165981  351.2963475   312.92354263\n",
            "  280.97170249  252.52586709  233.48702259  215.16241896  198.75544824\n",
            "  186.64111052  172.67806842  159.66651042  149.91644521  143.20533006\n",
            "  136.57165602  128.08967371  120.98795284  115.28720597  110.15990328\n",
            "  106.82754289  104.1501971   101.40857723   96.76517741   92.23562787\n",
            "   87.83129242   83.73965523   79.54248397   75.86687324   73.07855346\n",
            "   70.90830138   68.63365633   66.79474688   65.81414047   65.16110605\n",
            "   64.55265887]\n"
          ],
          "name": "stdout"
        }
      ]
    },
    {
      "cell_type": "code",
      "metadata": {
        "id": "sf3yA3kklrbi",
        "colab_type": "code",
        "colab": {
          "base_uri": "https://localhost:8080/",
          "height": 35
        },
        "outputId": "e94560d1-5e1e-4baa-8e49-958ea3fe768a"
      },
      "source": [
        "hfd(data_list)"
      ],
      "execution_count": 34,
      "outputs": [
        {
          "output_type": "execute_result",
          "data": {
            "text/plain": [
              "1.1611416897874531"
            ]
          },
          "metadata": {
            "tags": []
          },
          "execution_count": 34
        }
      ]
    },
    {
      "cell_type": "code",
      "metadata": {
        "id": "BcmU8IK8lWPk",
        "colab_type": "code",
        "colab": {
          "base_uri": "https://localhost:8080/",
          "height": 295
        },
        "outputId": "8f9288cb-4534-43f1-be22-9e2bf131e379"
      },
      "source": [
        "import math\n",
        "x = k_interval_times\n",
        "#x = np.logspace(curve_length[0], curve_length[len(curve_length) - 1], len(curve_length))\n",
        "#log_y = []\n",
        "#for i in curve_length_list:\n",
        "#  log_y.append(math.log10(i))\n",
        "#y = log_y\n",
        "y = curve_length_list\n",
        "#y = np.logspace(k_interval_times[0], k_interval_times[len(k_interval_times) - 1], len(k_interval_times)) \n",
        "\n",
        "plt.title(\"Delhi (growth phase)\") \n",
        "plt.xlabel(\"k\") \n",
        "plt.ylabel(\"<L(k)>\") \n",
        "plt.plot(x,y) \n",
        "plt.show()"
      ],
      "execution_count": 35,
      "outputs": [
        {
          "output_type": "display_data",
          "data": {
            "image/png": "[encoded data removed]",
            "text/plain": [
              "<Figure size 432x288 with 1 Axes>"
            ]
          },
          "metadata": {
            "tags": [],
            "needs_background": "light"
          }
        }
      ]
    },
    {
      "cell_type": "code",
      "metadata": {
        "id": "Xqxz-haX-16J",
        "colab_type": "code",
        "colab": {
          "base_uri": "https://localhost:8080/",
          "height": 380
        },
        "outputId": "cc8ded91-591f-49f1-ce90-fbdbc26a88b0"
      },
      "source": [
        "import numpy as np\n",
        "import pylab\n",
        "Polynomial = np.polynomial.Polynomial\n",
        "\n",
        "# The data: conc = [P] and absorbance, A\n",
        "#conc = k_interval_times\n",
        "\n",
        "log_x = []\n",
        "for i in k_interval_times:\n",
        "  log_x.append(math.log10(i))\n",
        "conc = log_x #np.array(log_x, dtype=np.int)\n",
        "#A = curve_length_list\n",
        "\n",
        "\n",
        "log_y = []\n",
        "for i in curve_length_list:\n",
        "  log_y.append(math.log10(i))\n",
        "A = log_y #np.array(log_y, dtype=np.int)\n",
        "#np.array(data, dtype=np.float32)\n",
        "#int_array = float_array.astype(int)\n",
        "\n",
        "\n",
        "cmin, cmax = min(conc), max(conc)\n",
        "pfit, stats = Polynomial.fit(conc, A, 1, full=True, window=(cmin, cmax),\n",
        "                                                    domain=(cmin, cmax))\n",
        "\n",
        "print('Raw fit results:', pfit, stats, sep='\\n')\n",
        "\n",
        "A0, m = pfit\n",
        "resid, rank, sing_val, rcond = stats\n",
        "rms = np.sqrt(resid[0]/len(A))\n",
        "\n",
        "print('Fit: A = {:.3f}[P] + {:.3f}'.format(m, A0),\n",
        "      '(rms residual = {:.4f})'.format(rms))\n",
        "\n",
        "#res = [element * pfit for element in conc]\n",
        "pylab.scatter(conc, A)\n",
        "plt.title(\"DELHI (growth phase)\")\n",
        "pylab.plot(conc, pfit(np.array(conc, dtype=np.float32)), color='k')\n",
        "pylab.ylabel('log <L(k)>')\n",
        "pylab.xlabel('log k\\n- best fitted straight line')\n",
        "pylab.show()"
      ],
      "execution_count": 36,
      "outputs": [
        {
          "output_type": "stream",
          "text": [
            "Raw fit results:\n",
            "poly([ 3.68925089 -1.16114169])\n",
            "[array([0.00572006]), 2, array([1.40250012, 0.1816409 ]), 9.103828801926284e-15]\n",
            "Fit: A = -1.161[P] + 3.689 (rms residual = 0.0118)\n"
          ],
          "name": "stdout"
        },
        {
          "output_type": "display_data",
          "data": {
            "image/png": "[encoded data removed]",
            "text/plain": [
              "<Figure size 432x288 with 1 Axes>"
            ]
          },
          "metadata": {
            "tags": [],
            "needs_background": "light"
          }
        }
      ]
    },
    {
      "cell_type": "markdown",
      "metadata": {
        "id": "lfTMM2GybhcW",
        "colab_type": "text"
      },
      "source": [
        "# DELHI DEC."
      ]
    },
    {
      "cell_type": "code",
      "metadata": {
        "id": "qmwT_7FMbMov",
        "colab_type": "code",
        "colab": {
          "base_uri": "https://localhost:8080/",
          "height": 217
        },
        "outputId": "6c324924-6e2b-45f6-a79d-ebda4c06c3b8"
      },
      "source": [
        "# k_value = int(input(\"Enter the bound og 'k' \"))\n",
        "data_list = delhi_down_np_array[1:67]\n",
        "#data_list = data_list.reshape(-1)\n",
        "print(data_list.shape)\n",
        "num_k =  int(input(\"Number of k values to generate: \"))  #number of k values to generate.\n",
        "k_max =  int(input(\"Max. k value: \"))  #the maximum k the k array is generated uniformly in log space from 2 to k_max\n",
        "\n",
        "k_interval_times, curve_length_list = curve_length(data_list, num_k, k_max)\n",
        "print(k_interval_times, curve_length_list)"
      ],
      "execution_count": 37,
      "outputs": [
        {
          "output_type": "stream",
          "text": [
            "(66,)\n",
            "Number of k values to generate: 75\n",
            "Max. k value: 14\n",
            "[ 2  3  4  5  6  7  8  9 10 11 12 13 14 15 16 17 18 19 20 21 22 23 24 25\n",
            " 26 27 28 29 30 31 32] [2116.30859375 1203.01587302  806.92675781  600.59666667  463.5462963\n",
            "  374.9159783   319.18509347  274.5781893   237.44066667  211.20360631\n",
            "  188.84042245  172.76035503  156.26806973  142.87802469  131.9611613\n",
            "  118.59335776  107.07947531  100.83260436   94.4815625    89.26942735\n",
            "   85.75507137   77.74944522   71.18778935   65.57616      61.17233728\n",
            "   57.924732     55.23608327   52.59778999   50.82277778   49.46183411\n",
            "   48.35029602]\n"
          ],
          "name": "stdout"
        }
      ]
    },
    {
      "cell_type": "code",
      "metadata": {
        "id": "pePr8_4gmM7w",
        "colab_type": "code",
        "colab": {
          "base_uri": "https://localhost:8080/",
          "height": 35
        },
        "outputId": "bd7670d6-e876-45c5-a26a-2cd2202c2886"
      },
      "source": [
        "hfd(data_list)"
      ],
      "execution_count": 38,
      "outputs": [
        {
          "output_type": "execute_result",
          "data": {
            "text/plain": [
              "1.3649529076007894"
            ]
          },
          "metadata": {
            "tags": []
          },
          "execution_count": 38
        }
      ]
    },
    {
      "cell_type": "code",
      "metadata": {
        "id": "ueepV6fqmPD_",
        "colab_type": "code",
        "colab": {
          "base_uri": "https://localhost:8080/",
          "height": 295
        },
        "outputId": "289b1977-2b2d-442a-c9d2-bc5791234d22"
      },
      "source": [
        "import math\n",
        "x = k_interval_times\n",
        "#x = np.logspace(curve_length[0], curve_length[len(curve_length) - 1], len(curve_length))\n",
        "#log_y = []\n",
        "#for i in curve_length_list:\n",
        "#  log_y.append(math.log10(i))\n",
        "#y = log_y\n",
        "y = curve_length_list\n",
        "#y = np.logspace(k_interval_times[0], k_interval_times[len(k_interval_times) - 1], len(k_interval_times)) \n",
        "\n",
        "plt.title(\"Delhi (declining phase)\") \n",
        "plt.xlabel(\"k\") \n",
        "plt.ylabel(\"<L(k)>\") \n",
        "plt.plot(x,y) \n",
        "plt.show()"
      ],
      "execution_count": 39,
      "outputs": [
        {
          "output_type": "display_data",
          "data": {
            "image/png": "[encoded data removed]",
            "text/plain": [
              "<Figure size 432x288 with 1 Axes>"
            ]
          },
          "metadata": {
            "tags": [],
            "needs_background": "light"
          }
        }
      ]
    },
    {
      "cell_type": "code",
      "metadata": {
        "id": "PcnRK13dzq-B",
        "colab_type": "code",
        "colab": {
          "base_uri": "https://localhost:8080/",
          "height": 380
        },
        "outputId": "fcddfd66-83c0-404c-a768-d7f78b71337d"
      },
      "source": [
        "import numpy as np\n",
        "import pylab\n",
        "Polynomial = np.polynomial.Polynomial\n",
        "\n",
        "# The data: conc = [P] and absorbance, A\n",
        "#conc = k_interval_times\n",
        "\n",
        "log_x = []\n",
        "for i in k_interval_times:\n",
        "  log_x.append(math.log10(i))\n",
        "conc = log_x #np.array(log_x, dtype=np.int)\n",
        "#A = curve_length_list\n",
        "\n",
        "\n",
        "log_y = []\n",
        "for i in curve_length_list:\n",
        "  log_y.append(math.log10(i))\n",
        "A = log_y #np.array(log_y, dtype=np.int)\n",
        "#np.array(data, dtype=np.float32)\n",
        "#int_array = float_array.astype(int)\n",
        "\n",
        "\n",
        "cmin, cmax = min(conc), max(conc)\n",
        "pfit, stats = Polynomial.fit(conc, A, 1, full=True, window=(cmin, cmax),\n",
        "                                                    domain=(cmin, cmax))\n",
        "\n",
        "print('Raw fit results:', pfit, stats, sep='\\n')\n",
        "\n",
        "A0, m = pfit\n",
        "resid, rank, sing_val, rcond = stats\n",
        "rms = np.sqrt(resid[0]/len(A))\n",
        "\n",
        "print('Fit: A = {:.3f}[P] + {:.3f}'.format(m, A0),\n",
        "      '(rms residual = {:.4f})'.format(rms))\n",
        "\n",
        "#res = [element * pfit for element in conc]\n",
        "pylab.scatter(conc, A)\n",
        "plt.title(\"DELHI (declining phase)\")\n",
        "pylab.plot(conc, pfit(np.array(conc, dtype=np.float32)), color='k')\n",
        "pylab.ylabel('log <L(k)>')\n",
        "pylab.xlabel('log k\\n- best fitted straight line')\n",
        "pylab.show()"
      ],
      "execution_count": 40,
      "outputs": [
        {
          "output_type": "stream",
          "text": [
            "Raw fit results:\n",
            "poly([ 3.73960678 -1.36495291])\n",
            "[array([0.00644498]), 2, array([1.4016691 , 0.18794611]), 6.8833827526759706e-15]\n",
            "Fit: A = -1.365[P] + 3.740 (rms residual = 0.0144)\n"
          ],
          "name": "stdout"
        },
        {
          "output_type": "display_data",
          "data": {
            "image/png": "[encoded data removed]",
            "text/plain": [
              "<Figure size 432x288 with 1 Axes>"
            ]
          },
          "metadata": {
            "tags": [],
            "needs_background": "light"
          }
        }
      ]
    },
    {
      "cell_type": "markdown",
      "metadata": {
        "id": "5n8wHUOxjhHK",
        "colab_type": "text"
      },
      "source": [
        "#WEST BENGAL"
      ]
    },
    {
      "cell_type": "code",
      "metadata": {
        "id": "gYS4Z2zZlySW",
        "colab_type": "code",
        "colab": {
          "base_uri": "https://localhost:8080/",
          "height": 399
        },
        "outputId": "c3b78290-d45a-430e-c044-331dda829a71"
      },
      "source": [
        "# k_value = int(input(\"Enter the bound og 'k' \"))\n",
        "data_list = wb_np_array[1:154]\n",
        "#data_list = data_list.reshape(-1)\n",
        "print(data_list.shape)\n",
        "num_k =  int(input(\"Number of k values to generate: \"))  #number of k values to generate.\n",
        "k_max =  int(input(\"Max. k value: \"))  #the maximum k the k array is generated uniformly in log space from 2 to k_max\n",
        "\n",
        "k_interval_times, curve_length_list = curve_length(data_list, num_k, k_max)\n",
        "print(k_interval_times, curve_length_list)"
      ],
      "execution_count": 41,
      "outputs": [
        {
          "output_type": "stream",
          "text": [
            "(153,)\n",
            "Number of k values to generate: 75\n",
            "Max. k value: 14\n",
            "[ 2  3  4  5  6  7  8  9 10 11 12 13 14 15 16 17 18 19 20 21 22 23 24 25\n",
            " 26 27 28 29 30 31 32 33 34 35 36 37 38 39 40 41 42 43 44 45 46 47 48 49\n",
            " 50 51 52 53 54 55 56 57 58 59 60 61 62 63 64 65 66 67 68 69 70 71 72 73\n",
            " 74 75] [2152.70666667 1364.17185185  986.94932432  770.72875402  628.74518519\n",
            "  529.44978481  457.69444444  402.16666667  357.81885714  322.79905219\n",
            "  293.84227694  269.61933215  249.17635245  231.89770535  217.80471463\n",
            "  204.386322    194.32135509  183.66838148  175.99564286  168.43909688\n",
            "  160.89854746  155.24688091  149.6458912   143.49837653  138.52530724\n",
            "  134.53502007  130.48963192  126.40013121  121.84573333  117.72248889\n",
            "  114.73754883  111.6856907   108.70438971  105.80440816  103.01901863\n",
            "  100.04448568   97.06048015   94.94266592   93.12533333   91.52912272\n",
            "   90.12228701   88.74648354   87.26325758   85.66044444   83.98160324\n",
            "   82.20895177   80.37340856   78.42353668   76.39621333   74.21130636\n",
            "   72.69208011   71.240205     69.92295382   68.7802855    67.66759293\n",
            "   66.48609829   65.24146131   63.91424634   62.56383333   61.32943286\n",
            "   60.22778692   59.22539363   58.25765991   57.30780519   56.34361522\n",
            "   55.37816819   54.43501934   53.53052732   52.64872303   51.79923501\n",
            "   50.95885845   50.09001663   49.17839022   48.28294637]\n"
          ],
          "name": "stdout"
        }
      ]
    },
    {
      "cell_type": "code",
      "metadata": {
        "id": "c2-C-lDFlsWT",
        "colab_type": "code",
        "colab": {
          "base_uri": "https://localhost:8080/",
          "height": 35
        },
        "outputId": "0b500d7a-dbc0-4224-bef5-ca103c65cbab"
      },
      "source": [
        "hfd(data_list)"
      ],
      "execution_count": 42,
      "outputs": [
        {
          "output_type": "execute_result",
          "data": {
            "text/plain": [
              "1.0024922751179584"
            ]
          },
          "metadata": {
            "tags": []
          },
          "execution_count": 42
        }
      ]
    },
    {
      "cell_type": "code",
      "metadata": {
        "id": "DxzYwlaflXMa",
        "colab_type": "code",
        "colab": {
          "base_uri": "https://localhost:8080/",
          "height": 295
        },
        "outputId": "d6781d8d-e611-44e9-d0e7-93d79eebba94"
      },
      "source": [
        "import math\n",
        "x = k_interval_times\n",
        "#x = np.logspace(curve_length[0], curve_length[len(curve_length) - 1], len(curve_length))\n",
        "#log_y = []\n",
        "#for i in curve_length_list:\n",
        "#  log_y.append(math.log10(i))\n",
        "#y = log_y\n",
        "y = curve_length_list\n",
        "#y = np.logspace(k_interval_times[0], k_interval_times[len(k_interval_times) - 1], len(k_interval_times)) \n",
        "\n",
        "plt.title(\"West Bengal\") \n",
        "plt.xlabel(\"k\") \n",
        "plt.ylabel(\"<L(k)>\") \n",
        "plt.plot(x,y) \n",
        "plt.show()"
      ],
      "execution_count": 43,
      "outputs": [
        {
          "output_type": "display_data",
          "data": {
            "image/png": "[encoded data removed]",
            "text/plain": [
              "<Figure size 432x288 with 1 Axes>"
            ]
          },
          "metadata": {
            "tags": [],
            "needs_background": "light"
          }
        }
      ]
    },
    {
      "cell_type": "code",
      "metadata": {
        "id": "wxMssWGN--CB",
        "colab_type": "code",
        "colab": {
          "base_uri": "https://localhost:8080/",
          "height": 380
        },
        "outputId": "21b05f46-af15-4faf-e7b5-62b2927b46eb"
      },
      "source": [
        "import numpy as np\n",
        "import pylab\n",
        "Polynomial = np.polynomial.Polynomial\n",
        "\n",
        "# The data: conc = [P] and absorbance, A\n",
        "#conc = k_interval_times\n",
        "\n",
        "log_x = []\n",
        "for i in k_interval_times:\n",
        "  log_x.append(math.log10(i))\n",
        "conc = log_x #np.array(log_x, dtype=np.int)\n",
        "#A = curve_length_list\n",
        "\n",
        "\n",
        "log_y = []\n",
        "for i in curve_length_list:\n",
        "  log_y.append(math.log10(i))\n",
        "A = log_y #np.array(log_y, dtype=np.int)\n",
        "#np.array(data, dtype=np.float32)\n",
        "#int_array = float_array.astype(int)\n",
        "\n",
        "\n",
        "cmin, cmax = min(conc), max(conc)\n",
        "pfit, stats = Polynomial.fit(conc, A, 1, full=True, window=(cmin, cmax),\n",
        "                                                    domain=(cmin, cmax))\n",
        "\n",
        "print('Raw fit results:', pfit, stats, sep='\\n')\n",
        "\n",
        "A0, m = pfit\n",
        "resid, rank, sing_val, rcond = stats\n",
        "rms = np.sqrt(resid[0]/len(A))\n",
        "\n",
        "print('Fit: A = {:.3f}[P] + {:.3f}'.format(m, A0),\n",
        "      '(rms residual = {:.4f})'.format(rms))\n",
        "\n",
        "#res = [element * pfit for element in conc]\n",
        "pylab.scatter(conc, A)\n",
        "plt.title(\"WEST BENGAL\")\n",
        "pylab.plot(conc, pfit(np.array(conc, dtype=np.float32)), color='k')\n",
        "pylab.ylabel('log <L(k)>')\n",
        "pylab.xlabel('log k\\n- best fitted straight line')\n",
        "pylab.show()"
      ],
      "execution_count": 44,
      "outputs": [
        {
          "output_type": "stream",
          "text": [
            "Raw fit results:\n",
            "poly([ 3.57196639 -1.00249228])\n",
            "[array([0.01868148]), 2, array([1.40423584, 0.1676953 ]), 1.6431300764452317e-14]\n",
            "Fit: A = -1.002[P] + 3.572 (rms residual = 0.0159)\n"
          ],
          "name": "stdout"
        },
        {
          "output_type": "display_data",
          "data": {
            "image/png": "[encoded data removed]",
            "text/plain": [
              "<Figure size 432x288 with 1 Axes>"
            ]
          },
          "metadata": {
            "tags": [],
            "needs_background": "light"
          }
        }
      ]
    },
    {
      "cell_type": "code",
      "metadata": {
        "id": "LnYkBVftm0lV",
        "colab_type": "code",
        "colab": {}
      },
      "source": [
        ""
      ],
      "execution_count": null,
      "outputs": []
    }
  ]
}