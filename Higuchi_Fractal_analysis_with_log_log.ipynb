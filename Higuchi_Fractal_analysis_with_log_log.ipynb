{
  "nbformat": 4,
  "nbformat_minor": 0,
  "metadata": {
    "colab": {
      "name": "Higuchi_Fractal_analysis_with_log-log",
      "provenance": [],
      "collapsed_sections": [
        "ZGMTruyfi5hr",
        "IuWx79dKjPBU",
        "n30k8rPnjTL8",
        "32yO6HjBjZVM",
        "AKvAI_RTjdRE",
        "5n8wHUOxjhHK",
        "kZYk4UPfjmQ6"
      ],
      "authorship_tag": "ABX9TyPa7757pBwW/Tfx+Bp4f7r2",
      "include_colab_link": true
    },
    "kernelspec": {
      "name": "python3",
      "display_name": "Python 3"
    },
    "accelerator": "GPU"
  },
  "cells": [
    {
      "cell_type": "markdown",
      "metadata": {
        "id": "view-in-github",
        "colab_type": "text"
      },
      "source": [
        "<a href=\"https://colab.research.google.com/github/sankalpachowdhury/Fractal_Analysis/blob/master/Higuchi_Fractal_analysis_with_log_log.ipynb\" target=\"_parent\"><img src=\"https://colab.research.google.com/assets/colab-badge.svg\" alt=\"Open In Colab\"/></a>"
      ]
    },
    {
      "cell_type": "markdown",
      "metadata": {
        "id": "-RLYfQJMi6pH",
        "colab_type": "text"
      },
      "source": [
        "#C codes"
      ]
    },
    {
      "cell_type": "code",
      "metadata": {
        "id": "GD6DpDn0ss4G",
        "colab_type": "code",
        "colab": {}
      },
      "source": [
        "#include <stdio.h>\n",
        "\n",
        "int main()\n",
        "{\n",
        "   int i, j, k, m, n, s=0, l, x=0;\n",
        "   printf(\"Enter sample size:\");\n",
        "   scanf(\"%d\",&n);\n",
        "   printf(\"Enter largest time delay parameter:\");\n",
        "   scanf(\"%d\",&k);\n",
        "   int a[n];\n",
        "   for(i=2;i<=k;i++)\n",
        "   {\n",
        "       for(m=0;m<i;m++)\n",
        "       {\n",
        "            for(j=m;j<n;j=j+i)\n",
        "                s=s+a[j+i]-a[j];\n",
        "            l=(s*(n-1))/(j*i);\n",
        "            s=0;\n",
        "            x=x+l;\n",
        "       }\n",
        "       printf(\"The average is %d for k= %d\",x/i,i);\n",
        "       x=0;\n",
        "   }\n",
        "}"
      ],
      "execution_count": null,
      "outputs": []
    },
    {
      "cell_type": "code",
      "metadata": {
        "id": "uuOdLXSvun7w",
        "colab_type": "code",
        "colab": {}
      },
      "source": [
        "#include <stdio.h>\n",
        "\n",
        "int main()\n",
        "{\n",
        "      int n, k, i=0, b=0, s=0, l=0, m;\n",
        "    printf(\"Enter sample size:\");\n",
        "    scanf(\"%d\",&n);\n",
        "    printf(\"\\nEnter the time delay parameter:\");\n",
        "    scanf(\"%d\",&b);\n",
        "    int a[n];\n",
        "    while(i<n)\n",
        "        {\n",
        "            scanf(\"%d\",&a[i]);\n",
        "            i++;\n",
        "        }\n",
        "    for(k=2;k<=b;k++)\n",
        "    {\n",
        "        for(m=0;m<k;m++)\n",
        "        {\n",
        "            for(i=m;i<n;i=i+k)\n",
        "                s=s+a[i+k]-a[i];\n",
        "            l=l+((s*(n-1))/((i+k)*k));\n",
        "            s=0;\n",
        "        }\n",
        "        printf(\"\\nAvg length %d for %d\",l/k,k);\n",
        "        l=0;\n",
        "    }\n",
        "\n",
        "}"
      ],
      "execution_count": null,
      "outputs": []
    },
    {
      "cell_type": "code",
      "metadata": {
        "id": "ALMEXNIDjmU8",
        "colab_type": "code",
        "colab": {}
      },
      "source": [
        "#!git clone https://github.com/inuritdino/HiguchiFractalDimension.git"
      ],
      "execution_count": null,
      "outputs": []
    },
    {
      "cell_type": "code",
      "metadata": {
        "id": "6WL9wLbwwO5x",
        "colab_type": "code",
        "colab": {}
      },
      "source": [
        "import pandas as pd\n",
        "import numpy as np\n",
        "import matplotlib.pyplot as plt\n",
        "import time"
      ],
      "execution_count": 1,
      "outputs": []
    },
    {
      "cell_type": "code",
      "metadata": {
        "id": "PHmNbQdmzzfR",
        "colab_type": "code",
        "colab": {}
      },
      "source": [
        "import os\n",
        "import ctypes\n",
        "import numpy as np\n",
        "from numpy.ctypeslib import ndpointer\n",
        "\n",
        "def curve_length(X,opt=False,num_k=50,k_max=None):\n",
        "    \"\"\"\n",
        "    Calculate curve length <Lk> for Higuchi Fractal Dimension (HFD)\n",
        "    \n",
        "    Input:\n",
        "    \n",
        "    X - input (time) series (must be 1D, to be converted into a NumPy array)\n",
        "    opt (=True) - optimized? (if libhfd.so was compiled uses the faster code).\n",
        "    num_k - number of k values to generate.\n",
        "    k_max - the maximum k (the k array is generated uniformly in log space \n",
        "            from 2 to k_max)\n",
        "    Output:\n",
        "    k - interval \"times\", window sizes\n",
        "    Lk - curve length\n",
        "    \"\"\"\n",
        "    ### Make sure X is a NumPy array with the correct dimension\n",
        "    X = np.array(X)\n",
        "    if X.ndim != 1:\n",
        "        raise ValueError(\"Input array must be 1D (time series).\")\n",
        "    N = X.size\n",
        "\n",
        "    ### Get interval \"time\"\n",
        "    k_arr = interval_t(N,num_val=num_k,kmax=k_max)\n",
        "\n",
        "    ### The average length\n",
        "    Lk = np.empty(k_arr.size,dtype=np.float)\n",
        "\n",
        "    ### C library\n",
        "    '''\n",
        "    if opt:\n",
        "        X = np.require(X, float, ('C', 'A'))\n",
        "        k_arr = np.require(k_arr, ctypes.c_size_t, ('C', 'A'))\n",
        "        Lk = np.require(Lk, float, ('C', 'A'))\n",
        "        ## Load library here\n",
        "        libhfd = init_lib()\n",
        "        ## Run the C code here\n",
        "        libhfd.curve_length(k_arr,k_arr.size,X,N,Lk)\n",
        "    '''\n",
        "    #else:\n",
        "        ### Native Python run\n",
        "    for i in range(k_arr.size):# over array of k's\n",
        "            Lmk = 0.0\n",
        "            for j in range(k_arr[i]):# over m's\n",
        "                ## Construct X_k^m, i.e. X_(k_arr[i])^j, as X[j::k_arr[i]]\n",
        "                ## Calculate L_m(k)\n",
        "                Lmk += (\n",
        "                    np.sum(\n",
        "                        np.abs(\n",
        "                            np.diff( X[j::k_arr[i]] )\n",
        "                        )\n",
        "                    )\n",
        "                    * (N - 1) /\n",
        "                    (\n",
        "                        ( (N-j-1)//k_arr[i] )\n",
        "                        *\n",
        "                        k_arr[i]\n",
        "                    )\n",
        "                ) / k_arr[i]\n",
        "\n",
        "            ### Calculate the average Lmk\n",
        "            Lk[i] = Lmk / k_arr[i]\n",
        "\n",
        "    return (k_arr, Lk);\n",
        "\n",
        "def lin_fit_hfd(k,L,log=True):\n",
        "    \"\"\"\n",
        "    Calculate Higuchi Fractal Dimension (HFD) by fitting a line to already computed\n",
        "    interval times k and curve lengths L\n",
        "    Input:\n",
        "    k - interval \"times\", window sizes\n",
        "    L - curve length\n",
        "    log (=True) - k and L values will be transformed to np.log2(k) and np.log2(L),\n",
        "                  respectively\n",
        "    Output:\n",
        "    HFD\n",
        "    \"\"\"\n",
        "    if log:\n",
        "        return (-np.polyfit(np.log2(k),np.log2(L),deg=1)[0]);\n",
        "    else:\n",
        "        return (-np.polyfit(k,L,deg=1)[0]);\n",
        "\n",
        "def hfd(X,**kwargs):\n",
        "    \"\"\"\n",
        "    Calculate Higuchi Fractal Dimension (HFD) for 1D data/series\n",
        "    Input:\n",
        "    X - input (time) series (must be 1D, to be converted into a NumPy array)\n",
        "    Output:\n",
        "    \n",
        "    HFD\n",
        "    \"\"\"\n",
        "    k, L = curve_length(X,**kwargs)\n",
        "    return lin_fit_hfd(k, L);\n",
        "\n",
        "# Generating th interval\n",
        "def interval_t(size,num_val=50,kmax=None):\n",
        "    list_space = []\n",
        "    ### Generate sequence of interval times, k\n",
        "    if kmax is None:\n",
        "        k_stop = size//2\n",
        "    else:\n",
        "        k_stop = kmax\n",
        "    if k_stop > size//2:   ## prohibit going larger than N/2\n",
        "        k_stop = size//2\n",
        "        print(\"Warning: k cannot be longer than N/2\")\n",
        "    '''\n",
        "    for i in range(2, k_stop):\n",
        "      list_space.append(i)    \n",
        "    '''\n",
        "    k = np.logspace(start=np.log2(2),stop=np.log2(k_stop),base=2,num=num_val,dtype=np.int)\n",
        "    return np.unique(list_space);\n",
        "\n",
        "def init_lib():\n",
        "    libdir = os.path.dirname(__file__)\n",
        "    libfile = os.path.join(libdir, \"libhfd.so\")\n",
        "    lib = ctypes.CDLL(libfile)\n",
        "\n",
        "    rwptr = ndpointer(float, flags=('C','A','W'))\n",
        "    rwptr_sizet = ndpointer(ctypes.c_size_t, flags=('C','A','W'))\n",
        "\n",
        "    lib.curve_length.restype = ctypes.c_int\n",
        "    lib.curve_length.argtypes = [rwptr_sizet, ctypes.c_size_t, rwptr, ctypes.c_size_t, rwptr]\n",
        "\n",
        "    return lib;"
      ],
      "execution_count": 2,
      "outputs": []
    },
    {
      "cell_type": "code",
      "metadata": {
        "id": "Y2wDgnnTBwpC",
        "colab_type": "code",
        "colab": {}
      },
      "source": [
        "x = np.random.randn(1000)\n",
        "y = np.empty(990)\n",
        "for i in range(x.size-10):\n",
        "\ty[i] = np.sum(x[:(i+10)])\n",
        " \n",
        "for i in x:\n",
        "  print(i)\n",
        "\n"
      ],
      "execution_count": null,
      "outputs": []
    },
    {
      "cell_type": "code",
      "metadata": {
        "id": "8hO9ultSIlT9",
        "colab_type": "code",
        "colab": {}
      },
      "source": [
        "for j in y:\n",
        "  print(i)"
      ],
      "execution_count": null,
      "outputs": []
    },
    {
      "cell_type": "code",
      "metadata": {
        "id": "XdpH0ICnHVuC",
        "colab_type": "code",
        "colab": {}
      },
      "source": [
        ""
      ],
      "execution_count": null,
      "outputs": []
    },
    {
      "cell_type": "code",
      "metadata": {
        "id": "OHC-kmGRs3Qz",
        "colab_type": "code",
        "colab": {
          "base_uri": "https://localhost:8080/",
          "height": 54
        },
        "outputId": "cd9cc070-4628-49b3-a853-8ef4d81b3a6f"
      },
      "source": [
        "# Validation of the algorithm\n",
        "x = np.random.randn(1000)\n",
        "y = np.empty(990)\n",
        "for i in range(x.size-10):\n",
        "\ty[i] = np.sum(x[:(i+10)])\n",
        "\t\n",
        "## Note x is a Guassian noise, y is the original Brownian data used in Higuchi, Physica D, 1988.\n",
        "\n",
        "print(hfd(x)) # ~ 2.00\n",
        "print(hfd(y)) # ~ 1.50\n",
        "#print(a, b)"
      ],
      "execution_count": 3,
      "outputs": [
        {
          "output_type": "stream",
          "text": [
            "1.9968899647699292\n",
            "1.5159367484427233\n"
          ],
          "name": "stdout"
        }
      ]
    },
    {
      "cell_type": "code",
      "metadata": {
        "id": "MuOmp7owT0Si",
        "colab_type": "code",
        "colab": {}
      },
      "source": [
        "k, l = curve_length((x))\n",
        "print(k, l)"
      ],
      "execution_count": null,
      "outputs": []
    },
    {
      "cell_type": "code",
      "metadata": {
        "id": "XbJpa9RI_Xs4",
        "colab_type": "code",
        "colab": {}
      },
      "source": [
        ""
      ],
      "execution_count": null,
      "outputs": []
    },
    {
      "cell_type": "code",
      "metadata": {
        "id": "1wGNxH1gUcBA",
        "colab_type": "code",
        "colab": {
          "base_uri": "https://localhost:8080/",
          "height": 296
        },
        "outputId": "3d2684f1-8dbb-4de6-9227-aad9afea3d23"
      },
      "source": [
        "import math\n",
        "#x = k_interval_times\n",
        "#x = np.logspace(curve_length[0], curve_length[len(curve_length) - 1], len(curve_length))\n",
        "log_y = []\n",
        "for i in l:\n",
        "  log_y.append(math.log10(i))\n",
        "y = log_y\n",
        "#y = curve_length_list\n",
        "#y = np.logspace(k_interval_times[0], k_interval_times[len(k_interval_times) - 1], len(k_interval_times)) \n",
        "\n",
        "plt.title(\"Test\") \n",
        "plt.xlabel(\"k_interval_times\") \n",
        "plt.ylabel(\"curve_length\") \n",
        "plt.plot(k,y) \n",
        "plt.show()"
      ],
      "execution_count": 5,
      "outputs": [
        {
          "output_type": "display_data",
          "data": {
            "image/png": "[encoded data removed]",
            "text/plain": [
              "<Figure size 432x288 with 1 Axes>"
            ]
          },
          "metadata": {
            "tags": [],
            "needs_background": "light"
          }
        }
      ]
    },
    {
      "cell_type": "code",
      "metadata": {
        "id": "RVkQxqftakTI",
        "colab_type": "code",
        "colab": {
          "base_uri": "https://localhost:8080/",
          "height": 352
        },
        "outputId": "f2a18c3c-0fcf-4ac3-cfc8-872750517089"
      },
      "source": [
        "import numpy as np\n",
        "import pylab\n",
        "Polynomial = np.polynomial.Polynomial\n",
        "\n",
        "# The data: conc = [P] and absorbance, A\n",
        "conc = k\n",
        "A = y\n",
        "\n",
        "cmin, cmax = min(conc), max(conc)\n",
        "pfit, stats = Polynomial.fit(conc, A, 1, full=True, window=(cmin, cmax),\n",
        "                                                    domain=(cmin, cmax))\n",
        "\n",
        "print('Raw fit results:', pfit, stats, sep='\\n')\n",
        "\n",
        "A0, m = pfit\n",
        "resid, rank, sing_val, rcond = stats\n",
        "rms = np.sqrt(resid[0]/len(A))\n",
        "\n",
        "print('Fit: A = {:.3f}[P] + {:.3f}'.format(m, A0),\n",
        "      '(rms residual = {:.4f})'.format(rms))\n",
        "\n",
        "pylab.plot(conc, A)\n",
        "pylab.plot(conc, pfit(conc), color='k')\n",
        "pylab.xlabel('k')\n",
        "pylab.ylabel('l')\n",
        "pylab.show()"
      ],
      "execution_count": 6,
      "outputs": [
        {
          "output_type": "stream",
          "text": [
            "Raw fit results:\n",
            "poly([-0.21253377 -0.00507387])\n",
            "[array([71.2578201]), 2, array([1.36649965, 0.36425087]), 1.1057821325266559e-13]\n",
            "Fit: A = -0.005[P] + -0.213 (rms residual = 0.3783)\n"
          ],
          "name": "stdout"
        },
        {
          "output_type": "display_data",
          "data": {
            "image/png": "[encoded data removed]",
            "text/plain": [
              "<Figure size 432x288 with 1 Axes>"
            ]
          },
          "metadata": {
            "tags": [],
            "needs_background": "light"
          }
        }
      ]
    },
    {
      "cell_type": "code",
      "metadata": {
        "id": "S8ZJ9wy5Bucz",
        "colab_type": "code",
        "colab": {}
      },
      "source": [
        "# Linear Regression\n",
        "\n",
        "import numpy as np\n",
        "from sklearn.linear_model import LinearRegression"
      ],
      "execution_count": null,
      "outputs": []
    },
    {
      "cell_type": "code",
      "metadata": {
        "id": "_JPYz3QRBy0i",
        "colab_type": "code",
        "colab": {}
      },
      "source": [
        "x = np.array([5, 15, 25, 35, 45, 55]).reshape((-1, 1))\n",
        "y = np.array([5, 20, 14, 32, 22, 38])"
      ],
      "execution_count": null,
      "outputs": []
    },
    {
      "cell_type": "code",
      "metadata": {
        "id": "_sib08DbCBVe",
        "colab_type": "code",
        "colab": {
          "base_uri": "https://localhost:8080/",
          "height": 35
        },
        "outputId": "47a8757b-5d45-4222-e12f-8e417badebd4"
      },
      "source": [
        "model = LinearRegression()\n",
        "model.fit(x, y)"
      ],
      "execution_count": null,
      "outputs": [
        {
          "output_type": "execute_result",
          "data": {
            "text/plain": [
              "LinearRegression(copy_X=True, fit_intercept=True, n_jobs=None, normalize=False)"
            ]
          },
          "metadata": {
            "tags": []
          },
          "execution_count": 42
        }
      ]
    },
    {
      "cell_type": "code",
      "metadata": {
        "id": "5d4mTOzuCIgO",
        "colab_type": "code",
        "colab": {}
      },
      "source": [
        "model = LinearRegression().fit(x, y)"
      ],
      "execution_count": null,
      "outputs": []
    },
    {
      "cell_type": "code",
      "metadata": {
        "id": "i2sAqMv2CYeI",
        "colab_type": "code",
        "colab": {
          "base_uri": "https://localhost:8080/",
          "height": 35
        },
        "outputId": "6fde3b41-b069-4eb1-b2f1-29a191788aa6"
      },
      "source": [
        "r_sq = model.score(x, y)\n",
        "print('coefficient of determination:', r_sq)"
      ],
      "execution_count": null,
      "outputs": [
        {
          "output_type": "stream",
          "text": [
            "coefficient of determination: 0.7158756137479542\n"
          ],
          "name": "stdout"
        }
      ]
    },
    {
      "cell_type": "code",
      "metadata": {
        "id": "iB1poAotCiUV",
        "colab_type": "code",
        "colab": {
          "base_uri": "https://localhost:8080/",
          "height": 35
        },
        "outputId": "5054de17-2578-41f9-a81c-9fe069b071ed"
      },
      "source": [
        "print('intercept:', model.intercept_)"
      ],
      "execution_count": null,
      "outputs": [
        {
          "output_type": "stream",
          "text": [
            "intercept: 5.633333333333329\n"
          ],
          "name": "stdout"
        }
      ]
    },
    {
      "cell_type": "code",
      "metadata": {
        "id": "VTad9T0BCmti",
        "colab_type": "code",
        "colab": {
          "base_uri": "https://localhost:8080/",
          "height": 35
        },
        "outputId": "4f40f9a9-d259-4288-c144-2e8521d3dd6c"
      },
      "source": [
        "print('slope:', model.coef_)"
      ],
      "execution_count": null,
      "outputs": [
        {
          "output_type": "stream",
          "text": [
            "slope: [0.54]\n"
          ],
          "name": "stdout"
        }
      ]
    },
    {
      "cell_type": "code",
      "metadata": {
        "id": "AB97U88bC0MW",
        "colab_type": "code",
        "colab": {
          "base_uri": "https://localhost:8080/",
          "height": 54
        },
        "outputId": "2016c38f-39aa-4046-8350-de8c9e3a5ba5"
      },
      "source": [
        "new_model = LinearRegression().fit(x, y.reshape((-1, 1)))\n",
        "print('intercept:', new_model.intercept_)\n",
        "print('slope:', new_model.coef_)"
      ],
      "execution_count": null,
      "outputs": [
        {
          "output_type": "stream",
          "text": [
            "intercept: [5.63333333]\n",
            "slope: [[0.54]]\n"
          ],
          "name": "stdout"
        }
      ]
    },
    {
      "cell_type": "code",
      "metadata": {
        "id": "n2FHYRgSC8CC",
        "colab_type": "code",
        "colab": {
          "base_uri": "https://localhost:8080/",
          "height": 54
        },
        "outputId": "7ecf38be-f467-4f63-b3d1-89e7ecab157b"
      },
      "source": [
        "y_pred = model.predict(x)\n",
        "print('predicted response:', y_pred, sep='\\n')"
      ],
      "execution_count": null,
      "outputs": [
        {
          "output_type": "stream",
          "text": [
            "predicted response:\n",
            "[ 8.33333333 13.73333333 19.13333333 24.53333333 29.93333333 35.33333333]\n"
          ],
          "name": "stdout"
        }
      ]
    },
    {
      "cell_type": "code",
      "metadata": {
        "id": "7PSypPTLDVyj",
        "colab_type": "code",
        "colab": {
          "base_uri": "https://localhost:8080/",
          "height": 145
        },
        "outputId": "a438b1a5-5837-4421-b969-3c2295411326"
      },
      "source": [
        "y_pred = model.intercept_ + model.coef_ * x\n",
        "print('predicted response:', y_pred, sep='\\n')"
      ],
      "execution_count": null,
      "outputs": [
        {
          "output_type": "stream",
          "text": [
            "predicted response:\n",
            "[[ 8.33333333]\n",
            " [13.73333333]\n",
            " [19.13333333]\n",
            " [24.53333333]\n",
            " [29.93333333]\n",
            " [35.33333333]]\n"
          ],
          "name": "stdout"
        }
      ]
    },
    {
      "cell_type": "code",
      "metadata": {
        "id": "Ul7X1UxfDnlY",
        "colab_type": "code",
        "colab": {
          "base_uri": "https://localhost:8080/",
          "height": 108
        },
        "outputId": "4ed1c5bd-3da2-4013-9336-a08b3bbd3441"
      },
      "source": [
        "x_new = np.arange(5).reshape((-1, 1))\n",
        "print(x_new)"
      ],
      "execution_count": null,
      "outputs": [
        {
          "output_type": "stream",
          "text": [
            "[[0]\n",
            " [1]\n",
            " [2]\n",
            " [3]\n",
            " [4]]\n"
          ],
          "name": "stdout"
        }
      ]
    },
    {
      "cell_type": "code",
      "metadata": {
        "id": "Hl_5ChCZEikr",
        "colab_type": "code",
        "colab": {
          "base_uri": "https://localhost:8080/",
          "height": 315
        },
        "outputId": "9493eea4-d13e-46e9-bd8a-aee41b4e63cb"
      },
      "source": [
        "import numpy as np \n",
        "import matplotlib.pyplot as plt \n",
        "  \n",
        "def estimate_coef(x, y): \n",
        "    # number of observations/points \n",
        "    n = np.size(x) \n",
        "  \n",
        "    # mean of x and y vector \n",
        "    m_x, m_y = np.mean(x), np.mean(y) \n",
        "  \n",
        "    # calculating cross-deviation and deviation about x \n",
        "    SS_xy = np.sum(y*x) - n*m_y*m_x \n",
        "    SS_xx = np.sum(x*x) - n*m_x*m_x \n",
        "  \n",
        "    # calculating regression coefficients \n",
        "    b_1 = SS_xy / SS_xx \n",
        "    b_0 = m_y - b_1*m_x \n",
        "  \n",
        "    return(b_0, b_1) \n",
        "  \n",
        "def plot_regression_line(x, y, b): \n",
        "    # plotting the actual points as scatter plot \n",
        "    #plt.scatter(x, y, color = \"m\", marker = \"o\", s = 30) \n",
        "    plt.plot(x, y)\n",
        "  \n",
        "    # predicted response vector \n",
        "    y_pred = b[0] + b[1]*x \n",
        "  \n",
        "    # plotting the regression line \n",
        "    #plt.plot(x, y_pred, color = \"g\") \n",
        "    plt.plot(x, y_pred)\n",
        "  \n",
        "    # putting labels \n",
        "    plt.xlabel('x') \n",
        "    plt.ylabel('y') \n",
        "  \n",
        "    # function to show plot \n",
        "    plt.show() \n",
        "  \n",
        "def main(): \n",
        "    # observations \n",
        "    x = k  # np.array([0, 1, 2, 3, 4, 5, 6, 7, 8, 9]) \n",
        "    y = l  # np.array([1, 3, 2, 5, 7, 8, 8, 9, 10, 12]) \n",
        "  \n",
        "    # estimating coefficients \n",
        "    b = estimate_coef(x, y) \n",
        "    print(\"Estimated coefficients:\\nb_0 = {}  nb_1 = {}\".format(b[0], b[1])) \n",
        "  \n",
        "    # plotting regression line \n",
        "    plot_regression_line(x, y, b) \n",
        "  \n",
        "if __name__ == \"__main__\": \n",
        "    main()"
      ],
      "execution_count": null,
      "outputs": [
        {
          "output_type": "stream",
          "text": [
            "Estimated coefficients:\n",
            "b_0 = 182.8376262481708  nb_1 = -0.06738456743257776\n"
          ],
          "name": "stdout"
        },
        {
          "output_type": "display_data",
          "data": {
            "image/png": "[encoded data removed]",
            "text/plain": [
              "<Figure size 432x288 with 1 Axes>"
            ]
          },
          "metadata": {
            "tags": [],
            "needs_background": "light"
          }
        }
      ]
    },
    {
      "cell_type": "markdown",
      "metadata": {
        "id": "tc4bSgPjwH_C",
        "colab_type": "text"
      },
      "source": [
        "#Data Preprocessing"
      ]
    },
    {
      "cell_type": "code",
      "metadata": {
        "id": "s5wlRg_5wKNF",
        "colab_type": "code",
        "colab": {
          "base_uri": "https://localhost:8080/",
          "height": 198
        },
        "outputId": "d58e3ba1-398a-44f4-f4b1-b018228dfe97"
      },
      "source": [
        "data = pd.read_csv('/content/AVG_DATA.csv')\n",
        "data.head()"
      ],
      "execution_count": 8,
      "outputs": [
        {
          "output_type": "execute_result",
          "data": {
            "text/html": [
              "<div>\n",
              "<style scoped>\n",
              "    .dataframe tbody tr th:only-of-type {\n",
              "        vertical-align: middle;\n",
              "    }\n",
              "\n",
              "    .dataframe tbody tr th {\n",
              "        vertical-align: top;\n",
              "    }\n",
              "\n",
              "    .dataframe thead th {\n",
              "        text-align: right;\n",
              "    }\n",
              "</style>\n",
              "<table border=\"1\" class=\"dataframe\">\n",
              "  <thead>\n",
              "    <tr style=\"text-align: right;\">\n",
              "      <th></th>\n",
              "      <th>DATE</th>\n",
              "      <th>SNO.</th>\n",
              "      <th>MAHARASHTRA</th>\n",
              "      <th>ANDHRA PRADESH</th>\n",
              "      <th>TAMIL NADU</th>\n",
              "      <th>KARNATAKA</th>\n",
              "      <th>UTTAR PRADESH</th>\n",
              "      <th>DELHI</th>\n",
              "      <th>WEST BENGAL</th>\n",
              "    </tr>\n",
              "  </thead>\n",
              "  <tbody>\n",
              "    <tr>\n",
              "      <th>0</th>\n",
              "      <td>NaN</td>\n",
              "      <td>NaN</td>\n",
              "      <td>NaN</td>\n",
              "      <td>NaN</td>\n",
              "      <td>NaN</td>\n",
              "      <td>NaN</td>\n",
              "      <td>NaN</td>\n",
              "      <td>NaN</td>\n",
              "      <td>NaN</td>\n",
              "    </tr>\n",
              "    <tr>\n",
              "      <th>1</th>\n",
              "      <td>01/04/2020</td>\n",
              "      <td>1.0</td>\n",
              "      <td>33.0</td>\n",
              "      <td>67.0</td>\n",
              "      <td>110.0</td>\n",
              "      <td>9.0</td>\n",
              "      <td>13.0</td>\n",
              "      <td>32.0</td>\n",
              "      <td>37.0</td>\n",
              "    </tr>\n",
              "    <tr>\n",
              "      <th>2</th>\n",
              "      <td>02/04/2020</td>\n",
              "      <td>2.0</td>\n",
              "      <td>62.0</td>\n",
              "      <td>40.0</td>\n",
              "      <td>96.0</td>\n",
              "      <td>9.0</td>\n",
              "      <td>23.0</td>\n",
              "      <td>89.0</td>\n",
              "      <td>18.0</td>\n",
              "    </tr>\n",
              "    <tr>\n",
              "      <th>3</th>\n",
              "      <td>03/04/2020</td>\n",
              "      <td>3.0</td>\n",
              "      <td>89.0</td>\n",
              "      <td>42.0</td>\n",
              "      <td>89.0</td>\n",
              "      <td>10.0</td>\n",
              "      <td>35.0</td>\n",
              "      <td>77.0</td>\n",
              "      <td>16.0</td>\n",
              "    </tr>\n",
              "    <tr>\n",
              "      <th>4</th>\n",
              "      <td>04/04/2020</td>\n",
              "      <td>4.0</td>\n",
              "      <td>107.0</td>\n",
              "      <td>38.0</td>\n",
              "      <td>77.0</td>\n",
              "      <td>11.0</td>\n",
              "      <td>38.0</td>\n",
              "      <td>75.0</td>\n",
              "      <td>9.0</td>\n",
              "    </tr>\n",
              "  </tbody>\n",
              "</table>\n",
              "</div>"
            ],
            "text/plain": [
              "         DATE  SNO.  MAHARASHTRA  ...  UTTAR PRADESH  DELHI  WEST BENGAL\n",
              "0         NaN   NaN          NaN  ...            NaN    NaN          NaN\n",
              "1  01/04/2020   1.0         33.0  ...           13.0   32.0         37.0\n",
              "2  02/04/2020   2.0         62.0  ...           23.0   89.0         18.0\n",
              "3  03/04/2020   3.0         89.0  ...           35.0   77.0         16.0\n",
              "4  04/04/2020   4.0        107.0  ...           38.0   75.0          9.0\n",
              "\n",
              "[5 rows x 9 columns]"
            ]
          },
          "metadata": {
            "tags": []
          },
          "execution_count": 8
        }
      ]
    },
    {
      "cell_type": "code",
      "metadata": {
        "id": "lyR1hPK3yPVt",
        "colab_type": "code",
        "colab": {}
      },
      "source": [
        "maha = data.MAHARASHTRA\n",
        "print(maha[1:154])\n",
        "\n",
        "andhra = data['ANDHRA PRADESH']\n",
        "print(andhra[1:154])\n",
        "\n",
        "tamil = data['TAMIL NADU']\n",
        "print(tamil[1:154])\n",
        "\n",
        "karna = data.KARNATAKA\n",
        "print(karna[1:154])\n",
        "\n",
        "up = data['UTTAR PRADESH']\n",
        "print(up[1:154])\n",
        "\n",
        "delhi = data['DELHI']\n",
        "print(delhi[1:154])\n",
        "\n",
        "wb = data['WEST BENGAL']\n",
        "print(wb[1:154])"
      ],
      "execution_count": null,
      "outputs": []
    },
    {
      "cell_type": "code",
      "metadata": {
        "id": "LdPlsMqOfVtl",
        "colab_type": "code",
        "colab": {
          "base_uri": "https://localhost:8080/",
          "height": 35
        },
        "outputId": "5646bffa-9872-4c22-bc40-e4c7a621cbe0"
      },
      "source": [
        "import pandas\n",
        "print(pandas.__version__)"
      ],
      "execution_count": 10,
      "outputs": [
        {
          "output_type": "stream",
          "text": [
            "1.0.5\n"
          ],
          "name": "stdout"
        }
      ]
    },
    {
      "cell_type": "code",
      "metadata": {
        "id": "3jlBlpea0S2F",
        "colab_type": "code",
        "colab": {}
      },
      "source": [
        "# convert dataframe to np.array\n",
        "import numpy\n",
        "maha_np_array = data['MAHARASHTRA'].to_numpy()\n",
        "#maha_np_array = list(numpy.concatenate().flat)) \n",
        "print(maha_np_array[1:154])\n",
        "\n",
        "andhra_np_array = andhra.to_numpy()\n",
        "print(andhra_np_array[1:154])\n",
        "\n",
        "tamil_np_array = tamil.to_numpy()\n",
        "print(tamil_np_array[1:154])\n",
        "\n",
        "karna_np_array = karna.to_numpy()\n",
        "print(karna_np_array[1:154])\n",
        "\n",
        "up_np_array = up.to_numpy()\n",
        "print(up_np_array[1:154])\n",
        "\n",
        "delhi_np_array = delhi.to_numpy()\n",
        "print(delhi_np_array[1:154])\n",
        "\n",
        "wb_np_array = wb.to_numpy()\n",
        "print(wb_np_array[1:154])"
      ],
      "execution_count": null,
      "outputs": []
    },
    {
      "cell_type": "markdown",
      "metadata": {
        "id": "F7SgkNZyi1s-",
        "colab_type": "text"
      },
      "source": [
        "#MAHARASHTRA\n",
        "\n"
      ]
    },
    {
      "cell_type": "code",
      "metadata": {
        "id": "yYd5_UsaycFx",
        "colab_type": "code",
        "colab": {
          "base_uri": "https://localhost:8080/",
          "height": 472
        },
        "outputId": "9f2d46ec-0d16-48c5-d1d7-d20d072269dd"
      },
      "source": [
        "# inputs to Higuchi Algorithm\n",
        "\n",
        "# k_value = int(input(\"Enter the bound og 'k' \"))\n",
        "data_list = maha_np_array[1:154]\n",
        "#data_list = data_list.reshape(-1)\n",
        "print(data_list.shape)\n",
        "num_k =  int(input(\"Number of k values to generate: \"))  #number of k values to generate.\n",
        "k_max =  int(input(\"Max. k value: \"))  #the maximum k the k array is generated uniformly in log space from 2 to k_max\n",
        "\n",
        "k_interval_times, curve_length_list = curve_length(data_list, num_k, k_max)\n",
        "print(k_interval_times, curve_length_list)"
      ],
      "execution_count": 28,
      "outputs": [
        {
          "output_type": "stream",
          "text": [
            "(153,)\n",
            "Number of k values to generate: 75\n",
            "Max. k value: 14\n",
            "[ 2  3  4  5  6  7  8  9 10 11 12 13 14 15 16 17 18 19 20 21 22 23 24 25\n",
            " 26 27 28 29 30 31 32 33 34 35 36 37 38 39 40 41 42 43 44 45 46 47 48 49\n",
            " 50 51 52 53 54 55 56 57 58 59 60 61 62 63 64 65 66 67 68 69 70 71 72 73\n",
            " 74 75] [13612.54333333  7888.57481481  5054.38344595  3503.97108966\n",
            "  2598.36493827  2107.39675135  1800.515625    1623.8484225\n",
            "  1471.8232381   1333.35425456  1203.46061308  1101.10845368\n",
            "  1017.75066408   947.52771687   885.33794488   833.17687767\n",
            "   789.75614834   750.01385042   712.41811905   679.25197834\n",
            "   650.8401703    623.87003096   599.52806713   577.0639872\n",
            "   555.85464269   535.39090586   514.9976312    496.51785641\n",
            "   479.19463704   464.05214103   450.07177734   437.73577835\n",
            "   425.39683832   412.37319339   400.98812586   389.29925835\n",
            "   380.22645429   371.67855156   363.64614583   356.31191267\n",
            "   348.43317856   341.54929755   334.72927623   327.96554184\n",
            "   320.99047971   313.77532917   307.13505498   299.72850315\n",
            "   293.578272     287.18043588   280.83050751   275.33811133\n",
            "   270.65757252   266.10346506   261.94371811   258.12373038\n",
            "   254.16171225   249.84057766   245.88814815   242.22825699\n",
            "   238.33708167   234.31775626   230.80233765   227.83838325\n",
            "   224.77121073   221.58898535   218.59909933   214.89157375\n",
            "   211.19159184   208.05523161   204.98037766   201.50958956\n",
            "   198.31543048   195.89075437]\n"
          ],
          "name": "stdout"
        }
      ]
    },
    {
      "cell_type": "code",
      "metadata": {
        "id": "X3L0lfkiQuIl",
        "colab_type": "code",
        "colab": {
          "base_uri": "https://localhost:8080/",
          "height": 35
        },
        "outputId": "ca7fad0e-b51f-4cdc-a782-84426efb7c34"
      },
      "source": [
        "hfd(data_list)"
      ],
      "execution_count": 22,
      "outputs": [
        {
          "output_type": "execute_result",
          "data": {
            "text/plain": [
              "1.07049676773535"
            ]
          },
          "metadata": {
            "tags": []
          },
          "execution_count": 22
        }
      ]
    },
    {
      "cell_type": "code",
      "metadata": {
        "id": "Pab_hsovUFuw",
        "colab_type": "code",
        "colab": {
          "base_uri": "https://localhost:8080/",
          "height": 295
        },
        "outputId": "6cc98c16-62c7-42c5-fe52-7c8e8a20d6bf"
      },
      "source": [
        "import math\n",
        "#x = k_interval_times\n",
        "log_x = []\n",
        "for i in k_interval_times:\n",
        "  log_x.append(math.log10(i))\n",
        "  #log_x.append(int(i))\n",
        "x = log_x\n",
        "#x = np.logspace(curve_length[0], curve_length[len(curve_length) - 1], len(curve_length))\n",
        "log_y = []\n",
        "for i in curve_length_list:\n",
        "  log_y.append(math.log10(i))\n",
        "  #log_y.append(int(i))\n",
        "y = log_y\n",
        "#y = curve_length_list\n",
        "#y = np.logspace(k_interval_times[0], k_interval_times[len(k_interval_times) - 1], len(k_interval_times)) \n",
        "\n",
        "plt.title(\"Maharastra\") \n",
        "plt.xlabel(\"k\") \n",
        "plt.ylabel(\"<L(k)>\") \n",
        "plt.plot(x,y) \n",
        "plt.show()"
      ],
      "execution_count": 32,
      "outputs": [
        {
          "output_type": "display_data",
          "data": {
            "image/png": "[encoded data removed]",
            "text/plain": [
              "<Figure size 432x288 with 1 Axes>"
            ]
          },
          "metadata": {
            "tags": [],
            "needs_background": "light"
          }
        }
      ]
    },
    {
      "cell_type": "code",
      "metadata": {
        "id": "v0wU4qMo8D_p",
        "colab_type": "code",
        "colab": {}
      },
      "source": [
        "log_x"
      ],
      "execution_count": null,
      "outputs": []
    },
    {
      "cell_type": "code",
      "metadata": {
        "id": "wrKaxsla7yJz",
        "colab_type": "code",
        "colab": {
          "base_uri": "https://localhost:8080/",
          "height": 352
        },
        "outputId": "2e9784f1-7fcc-482c-c531-fc8db98fc0cf"
      },
      "source": [
        "import numpy as np\n",
        "import pylab\n",
        "Polynomial = np.polynomial.Polynomial\n",
        "\n",
        "# The data: conc = [P] and absorbance, A\n",
        "#conc = k_interval_times\n",
        "\n",
        "conc = log_x #np.array(log_x, dtype=np.int)\n",
        "#A = curve_length_list\n",
        "\n",
        "\n",
        "\n",
        "A = log_y #np.array(log_y, dtype=np.int)\n",
        "#np.array(data, dtype=np.float32)\n",
        "#int_array = float_array.astype(int)\n",
        "\n",
        "\n",
        "cmin, cmax = min(conc), max(conc)\n",
        "pfit, stats = Polynomial.fit(conc, A, 1, full=True, window=(cmin, cmax),\n",
        "                                                    domain=(cmin, cmax))\n",
        "\n",
        "print('Raw fit results:', pfit, stats, sep='\\n')\n",
        "\n",
        "A0, m = pfit\n",
        "resid, rank, sing_val, rcond = stats\n",
        "rms = np.sqrt(resid[0]/len(A))\n",
        "\n",
        "print('Fit: A = {:.3f}[P] + {:.3f}'.format(m, A0),\n",
        "      '(rms residual = {:.4f})'.format(rms))\n",
        "\n",
        "#res = [element * pfit for element in conc]\n",
        "pylab.scatter(conc, A)\n",
        "pylab.plot(conc, pfit(np.array(conc, dtype=np.float32)), color='k')\n",
        "pylab.xlabel('k')\n",
        "pylab.ylabel('l')\n",
        "pylab.show()"
      ],
      "execution_count": 53,
      "outputs": [
        {
          "output_type": "stream",
          "text": [
            "Raw fit results:\n",
            "poly([ 4.27747729 -1.07049677])\n",
            "[array([0.09368093]), 2, array([1.40423584, 0.1676953 ]), 1.6431300764452317e-14]\n",
            "Fit: A = -1.070[P] + 4.277 (rms residual = 0.0356)\n"
          ],
          "name": "stdout"
        },
        {
          "output_type": "display_data",
          "data": {
            "image/png": "[encoded data removed]",
            "text/plain": [
              "<Figure size 432x288 with 1 Axes>"
            ]
          },
          "metadata": {
            "tags": [],
            "needs_background": "light"
          }
        }
      ]
    },
    {
      "cell_type": "code",
      "metadata": {
        "id": "PM6F5FVPGlVm",
        "colab_type": "code",
        "colab": {}
      },
      "source": [
        "import numpy as np \n",
        "import matplotlib.pyplot as plt \n",
        "  \n",
        "def estimate_coef(x, y): \n",
        "    # number of observations/points \n",
        "    n = np.size(x) \n",
        "  \n",
        "    # mean of x and y vector \n",
        "    m_x, m_y = np.mean(x), np.mean(y) \n",
        "  \n",
        "    # calculating cross-deviation and deviation about x \n",
        "    SS_xy = np.sum(y*x) - n*m_y*m_x \n",
        "    SS_xx = np.sum(x*x) - n*m_x*m_x \n",
        "  \n",
        "    # calculating regression coefficients \n",
        "    b_1 = SS_xy / SS_xx \n",
        "    b_0 = m_y - b_1*m_x \n",
        "  \n",
        "    return(b_0, b_1) \n",
        "  \n",
        "def plot_regression_line(x, y, b): \n",
        "    # plotting the actual points as scatter plot \n",
        "    #plt.scatter(x, y, color = \"m\", marker = \"o\", s = 30) \n",
        "    plt.plot(x, y)\n",
        "  \n",
        "    # predicted response vector \n",
        "    y_pred = b[0] + b[1]*x \n",
        "  \n",
        "    # plotting the regression line \n",
        "    #plt.plot(x, y_pred, color = \"g\") \n",
        "    plt.plot(x, y_pred)\n",
        "  \n",
        "    # putting labels \n",
        "    plt.xlabel('x') \n",
        "    plt.ylabel('y') \n",
        "  \n",
        "    # function to show plot \n",
        "    plt.show() \n",
        "  \n",
        "def main(): \n",
        "    # observations \n",
        "    x = log_x #k_interval_times #k  # np.array([0, 1, 2, 3, 4, 5, 6, 7, 8, 9]) \n",
        "    y = log_y #curve_length_list #l  # np.array([1, 3, 2, 5, 7, 8, 8, 9, 10, 12]) \n",
        "  \n",
        "    # estimating coefficients \n",
        "    b = estimate_coef(x, y) \n",
        "    print(\"Estimated coefficients:\\nb_0 = {}  nb_1 = {}\".format(b[0], b[1])) \n",
        "  \n",
        "    # plotting regression line \n",
        "    plot_regression_line(x, y, b) \n",
        "  \n",
        "if __name__ == \"__main__\": \n",
        "    main()"
      ],
      "execution_count": null,
      "outputs": []
    },
    {
      "cell_type": "markdown",
      "metadata": {
        "id": "ZGMTruyfi5hr",
        "colab_type": "text"
      },
      "source": [
        "#ANDHRA PRADESH"
      ]
    },
    {
      "cell_type": "code",
      "metadata": {
        "id": "dBZo9GTwjxde",
        "colab_type": "code",
        "colab": {
          "base_uri": "https://localhost:8080/",
          "height": 399
        },
        "outputId": "fae34703-f3e0-44f3-cc1e-d9e97dfdafd3"
      },
      "source": [
        "# k_value = int(input(\"Enter the bound og 'k' \"))\n",
        "data_list = andhra_np_array[1:154]\n",
        "#data_list = data_list.reshape(-1)\n",
        "print(data_list.shape)\n",
        "num_k =  int(input(\"Number of k values to generate: \"))  #number of k values to generate.\n",
        "k_max =  int(input(\"Max. k value: \"))  #the maximum k the k array is generated uniformly in log space from 2 to k_max\n",
        "\n",
        "k_interval_times, curve_length_list = curve_length(data_list, num_k, k_max)\n",
        "print(k_interval_times, curve_length_list)"
      ],
      "execution_count": 54,
      "outputs": [
        {
          "output_type": "stream",
          "text": [
            "(153,)\n",
            "Number of k values to generate: 75\n",
            "Max. k value: 14\n",
            "[ 2  3  4  5  6  7  8  9 10 11 12 13 14 15 16 17 18 19 20 21 22 23 24 25\n",
            " 26 27 28 29 30 31 32 33 34 35 36 37 38 39 40 41 42 43 44 45 46 47 48 49\n",
            " 50 51 52 53 54 55 56 57 58 59 60 61 62 63 64 65 66 67 68 69 70 71 72 73\n",
            " 74 75] [8185.28333333 5059.46074074 3575.2652027  2700.39496092 2167.25141975\n",
            " 1812.32936277 1560.53819444 1360.75445816 1207.6248     1086.39195515\n",
            "  990.17774972  909.48291472  832.86903142  770.00823045  718.59933811\n",
            "  669.66008549  625.96585342  583.17728532  545.05480952  520.20575789\n",
            "  501.82031054  485.6042081   468.50686728  451.9998464   440.08782431\n",
            "  429.32489966  415.79187318  402.70402231  390.64872593  381.3359292\n",
            "  376.21484375  370.13757409  361.64970486  351.42902235  341.56615798\n",
            "  331.66221152  322.72045245  316.6109341   311.59960417  306.57850776\n",
            "  300.24657164  293.81817115  286.37753569  278.37086786  269.89359196\n",
            "  261.37354279  253.37227527  245.61569867  238.66209067  231.78421572\n",
            "  222.52787893  213.95135582  206.45643449  200.04204959  194.9456086\n",
            "  191.03642146  187.85374554  184.74476943  182.20331481  180.23385217\n",
            "  177.88288409  175.48384104  173.42080688  171.39151934  168.99066422\n",
            "  166.4205504   163.79958783  160.82385566  157.97962682  155.48519045\n",
            "  152.963113    150.49843066  148.23117091  146.22264889]\n"
          ],
          "name": "stdout"
        }
      ]
    },
    {
      "cell_type": "code",
      "metadata": {
        "id": "G4YEOv5ZkPid",
        "colab_type": "code",
        "colab": {
          "base_uri": "https://localhost:8080/",
          "height": 35
        },
        "outputId": "49e5b82e-7545-497f-dbd7-8912fdfb8cfa"
      },
      "source": [
        "hfd(data_list)"
      ],
      "execution_count": 55,
      "outputs": [
        {
          "output_type": "execute_result",
          "data": {
            "text/plain": [
              "1.063517123545483"
            ]
          },
          "metadata": {
            "tags": []
          },
          "execution_count": 55
        }
      ]
    },
    {
      "cell_type": "code",
      "metadata": {
        "id": "xYYXi7A6kWyk",
        "colab_type": "code",
        "colab": {
          "base_uri": "https://localhost:8080/",
          "height": 296
        },
        "outputId": "23b649f0-8651-458a-f6f7-eacefdd6884b"
      },
      "source": [
        "import math\n",
        "x = k_interval_times\n",
        "#x = np.logspace(curve_length[0], curve_length[len(curve_length) - 1], len(curve_length))\n",
        "log_y = []\n",
        "for i in curve_length_list:\n",
        "  log_y.append(math.log10(i))\n",
        "y = log_y\n",
        "#y = curve_length_list\n",
        "#y = np.logspace(k_interval_times[0], k_interval_times[len(k_interval_times) - 1], len(k_interval_times)) \n",
        "\n",
        "plt.title(\"Andhra Pradesh\") \n",
        "plt.xlabel(\"k_interval_times\") \n",
        "plt.ylabel(\"curve_length\") \n",
        "plt.plot(x,y) \n",
        "plt.show()"
      ],
      "execution_count": 56,
      "outputs": [
        {
          "output_type": "display_data",
          "data": {
            "image/png": "[encoded data removed]",
            "text/plain": [
              "<Figure size 432x288 with 1 Axes>"
            ]
          },
          "metadata": {
            "tags": [],
            "needs_background": "light"
          }
        }
      ]
    },
    {
      "cell_type": "code",
      "metadata": {
        "id": "Lpgexuy7-xat",
        "colab_type": "code",
        "colab": {
          "base_uri": "https://localhost:8080/",
          "height": 295
        },
        "outputId": "456a44e5-631d-449d-b3ab-af7b11d475b5"
      },
      "source": [
        "import math\n",
        "#x = k_interval_times\n",
        "log_x = []\n",
        "for i in k_interval_times:\n",
        "  log_x.append(math.log10(i))\n",
        "  #log_x.append(int(i))\n",
        "x = log_x\n",
        "#x = np.logspace(curve_length[0], curve_length[len(curve_length) - 1], len(curve_length))\n",
        "log_y = []\n",
        "for i in curve_length_list:\n",
        "  log_y.append(math.log10(i))\n",
        "  #log_y.append(int(i))\n",
        "y = log_y\n",
        "#y = curve_length_list\n",
        "#y = np.logspace(k_interval_times[0], k_interval_times[len(k_interval_times) - 1], len(k_interval_times)) \n",
        "\n",
        "plt.title(\"Andhra Pradesh\") \n",
        "plt.xlabel(\"k\") \n",
        "plt.ylabel(\"<L(k)>\") \n",
        "plt.plot(x,y) \n",
        "plt.show()"
      ],
      "execution_count": 58,
      "outputs": [
        {
          "output_type": "display_data",
          "data": {
            "image/png": "[encoded data removed]",
            "text/plain": [
              "<Figure size 432x288 with 1 Axes>"
            ]
          },
          "metadata": {
            "tags": [],
            "needs_background": "light"
          }
        }
      ]
    },
    {
      "cell_type": "code",
      "metadata": {
        "id": "a1MMH4z6_B55",
        "colab_type": "code",
        "colab": {
          "base_uri": "https://localhost:8080/",
          "height": 355
        },
        "outputId": "6cb35606-736b-4806-b327-b617bdb2fa9d"
      },
      "source": [
        "import numpy as np\n",
        "import pylab\n",
        "Polynomial = np.polynomial.Polynomial\n",
        "\n",
        "# The data: conc = [P] and absorbance, A\n",
        "#conc = k_interval_times\n",
        "\n",
        "conc = log_x #np.array(log_x, dtype=np.int)\n",
        "#A = curve_length_list\n",
        "\n",
        "\n",
        "\n",
        "A = log_y #np.array(log_y, dtype=np.int)\n",
        "#np.array(data, dtype=np.float32)\n",
        "#int_array = float_array.astype(int)\n",
        "\n",
        "\n",
        "cmin, cmax = min(conc), max(conc)\n",
        "pfit, stats = Polynomial.fit(conc, A, 1, full=True, window=(cmin, cmax),\n",
        "                                                    domain=(cmin, cmax))\n",
        "\n",
        "print('Raw fit results:', pfit, stats, sep='\\n')\n",
        "\n",
        "A0, m = pfit\n",
        "resid, rank, sing_val, rcond = stats\n",
        "rms = np.sqrt(resid[0]/len(A))\n",
        "\n",
        "print('Fit: A = {:.3f}[P] + {:.3f}'.format(m, A0),\n",
        "      '(rms residual = {:.4f})'.format(rms))\n",
        "\n",
        "#res = [element * pfit for element in conc]\n",
        "pylab.scatter(conc, A)\n",
        "pylab.plot(conc, pfit(np.array(conc, dtype=np.float32)), color='k')\n",
        "pylab.xlabel('k')\n",
        "pylab.ylabel('l')\n",
        "pylab.show()"
      ],
      "execution_count": 60,
      "outputs": [
        {
          "output_type": "stream",
          "text": [
            "Raw fit results:\n",
            "poly([ 4.16486424 -1.06351712])\n",
            "[array([0.04195092]), 2, array([1.40423584, 0.1676953 ]), 1.6431300764452317e-14]\n",
            "Fit: A = -1.064[P] + 4.165 (rms residual = 0.0238)\n"
          ],
          "name": "stdout"
        },
        {
          "output_type": "display_data",
          "data": {
            "image/png": "[encoded data removed]",
            "text/plain": [
              "<Figure size 432x288 with 1 Axes>"
            ]
          },
          "metadata": {
            "tags": [],
            "needs_background": "light"
          }
        }
      ]
    },
    {
      "cell_type": "code",
      "metadata": {
        "id": "jBq1xRH1-ICV",
        "colab_type": "code",
        "colab": {
          "base_uri": "https://localhost:8080/",
          "height": 352
        },
        "outputId": "b4c47c66-f41f-4a93-f0ad-ec903856787f"
      },
      "source": [
        "import numpy as np\n",
        "import pylab\n",
        "Polynomial = np.polynomial.Polynomial\n",
        "\n",
        "# The data: conc = [P] and absorbance, A\n",
        "conc = k_interval_times\n",
        "A = curve_length_list\n",
        "\n",
        "cmin, cmax = min(conc), max(conc)\n",
        "pfit, stats = Polynomial.fit(conc, A, 1, full=True, window=(cmin, cmax),\n",
        "                                                    domain=(cmin, cmax))\n",
        "\n",
        "print('Raw fit results:', pfit, stats, sep='\\n')\n",
        "\n",
        "A0, m = pfit\n",
        "resid, rank, sing_val, rcond = stats\n",
        "rms = np.sqrt(resid[0]/len(A))\n",
        "\n",
        "print('Fit: A = {:.3f}[P] + {:.3f}'.format(m, A0),\n",
        "      '(rms residual = {:.4f})'.format(rms))\n",
        "\n",
        "pylab.plot(conc, A)\n",
        "pylab.plot(conc, pfit(conc), color='k')\n",
        "pylab.xlabel('k')\n",
        "pylab.ylabel('l')\n",
        "pylab.show()"
      ],
      "execution_count": 59,
      "outputs": [
        {
          "output_type": "stream",
          "text": [
            "Raw fit results:\n",
            "poly([1904.68418221  -31.73570958])\n",
            "[array([68974053.40679392]), 2, array([1.36910029, 0.35435068]), 1.6431300764452317e-14]\n",
            "Fit: A = -31.736[P] + 1904.684 (rms residual = 965.4438)\n"
          ],
          "name": "stdout"
        },
        {
          "output_type": "display_data",
          "data": {
            "image/png": "[encoded data removed]",
            "text/plain": [
              "<Figure size 432x288 with 1 Axes>"
            ]
          },
          "metadata": {
            "tags": [],
            "needs_background": "light"
          }
        }
      ]
    },
    {
      "cell_type": "markdown",
      "metadata": {
        "id": "IuWx79dKjPBU",
        "colab_type": "text"
      },
      "source": [
        "#TAMIL NADU"
      ]
    },
    {
      "cell_type": "code",
      "metadata": {
        "id": "pKF7x8xCks-7",
        "colab_type": "code",
        "colab": {
          "base_uri": "https://localhost:8080/",
          "height": 399
        },
        "outputId": "6f7df5ce-45fd-4c83-e5c0-1d6b01babb5c"
      },
      "source": [
        "# k_value = int(input(\"Enter the bound og 'k' \"))\n",
        "data_list = tamil_np_array[1:154]\n",
        "#data_list = data_list.reshape(-1)\n",
        "print(data_list.shape)\n",
        "num_k =  int(input(\"Number of k values to generate: \"))  #number of k values to generate.\n",
        "k_max =  int(input(\"Max. k value: \"))  #the maximum k the k array is generated uniformly in log space from 2 to k_max\n",
        "\n",
        "k_interval_times, curve_length_list = curve_length(data_list, num_k, k_max)\n",
        "print(k_interval_times, curve_length_list)"
      ],
      "execution_count": 61,
      "outputs": [
        {
          "output_type": "stream",
          "text": [
            "(153,)\n",
            "Number of k values to generate: 75\n",
            "Max. k value: 14\n",
            "[ 2  3  4  5  6  7  8  9 10 11 12 13 14 15 16 17 18 19 20 21 22 23 24 25\n",
            " 26 27 28 29 30 31 32 33 34 35 36 37 38 39 40 41 42 43 44 45 46 47 48 49\n",
            " 50 51 52 53 54 55 56 57 58 59 60 61 62 63 64 65 66 67 68 69 70 71 72 73\n",
            " 74 75] [5319.52666667 3438.69037037 2481.16891892 1923.28849655 1550.7412963\n",
            " 1281.62399    1087.453125    931.3388203   812.58114286  719.82141825\n",
            "  650.0316358   592.48300575  539.58953677  499.30110947  461.50146484\n",
            "  434.91553023  412.53605722  390.13296399  376.12128571  356.75384228\n",
            "  338.6277736   325.92404592  315.17716049  301.08581547  289.15457442\n",
            "  279.44315399  269.43232507  260.48876133  252.47453333  244.87514126\n",
            "  239.64190674  234.4265613   228.63745844  222.49225267  216.28355053\n",
            "  210.28522167  204.58679594  203.11807909  201.7146875   199.32949319\n",
            "  195.93771371  192.18405088  188.45532807  184.58096022  180.60931207\n",
            "  176.52470069  172.4113016   168.30477097  164.23883733  160.16714537\n",
            "  158.48287437  156.83892072  155.23761622  153.66046582  152.3509703\n",
            "  151.44598338  151.01100906  150.55422414  149.66405556  148.37948551\n",
            "  146.75333154  144.85004819  142.83021545  140.90185526  138.91697971\n",
            "  136.74178007  134.40672705  131.97171463  129.43243149  126.82266821\n",
            "  124.23546811  121.67322251  119.14751347  116.69042252]\n"
          ],
          "name": "stdout"
        }
      ]
    },
    {
      "cell_type": "code",
      "metadata": {
        "id": "Z0A4wLQAk0BK",
        "colab_type": "code",
        "colab": {
          "base_uri": "https://localhost:8080/",
          "height": 35
        },
        "outputId": "a38c6390-ea74-4909-a7d0-8ad4fa04b762"
      },
      "source": [
        "hfd(data_list)"
      ],
      "execution_count": 62,
      "outputs": [
        {
          "output_type": "execute_result",
          "data": {
            "text/plain": [
              "1.0054068791382214"
            ]
          },
          "metadata": {
            "tags": []
          },
          "execution_count": 62
        }
      ]
    },
    {
      "cell_type": "code",
      "metadata": {
        "id": "g5vaUyRAk4Bj",
        "colab_type": "code",
        "colab": {
          "base_uri": "https://localhost:8080/",
          "height": 296
        },
        "outputId": "8cef99fe-8b74-4ff1-a7b4-fd11cd7161d7"
      },
      "source": [
        "import math\n",
        "x = k_interval_times\n",
        "#x = np.logspace(curve_length[0], curve_length[len(curve_length) - 1], len(curve_length))\n",
        "log_y = []\n",
        "for i in curve_length_list:\n",
        "  log_y.append(math.log10(i))\n",
        "y = log_y\n",
        "#y = curve_length_list\n",
        "#y = np.logspace(k_interval_times[0], k_interval_times[len(k_interval_times) - 1], len(k_interval_times)) \n",
        "\n",
        "plt.title(\"Tamil Nadu\") \n",
        "plt.xlabel(\"k_interval_times\") \n",
        "plt.ylabel(\"curve_length\") \n",
        "plt.plot(x,y) \n",
        "plt.show()"
      ],
      "execution_count": 63,
      "outputs": [
        {
          "output_type": "display_data",
          "data": {
            "image/png": "[encoded data removed]",
            "text/plain": [
              "<Figure size 432x288 with 1 Axes>"
            ]
          },
          "metadata": {
            "tags": [],
            "needs_background": "light"
          }
        }
      ]
    },
    {
      "cell_type": "code",
      "metadata": {
        "id": "v_zTLhRC_VeN",
        "colab_type": "code",
        "colab": {
          "base_uri": "https://localhost:8080/",
          "height": 295
        },
        "outputId": "a3a371c7-d215-43f5-ca56-0d3375a6d0d9"
      },
      "source": [
        "import math\n",
        "#x = k_interval_times\n",
        "log_x = []\n",
        "for i in k_interval_times:\n",
        "  log_x.append(math.log10(i))\n",
        "  #log_x.append(int(i))\n",
        "x = log_x\n",
        "#x = np.logspace(curve_length[0], curve_length[len(curve_length) - 1], len(curve_length))\n",
        "log_y = []\n",
        "for i in curve_length_list:\n",
        "  log_y.append(math.log10(i))\n",
        "  #log_y.append(int(i))\n",
        "y = log_y\n",
        "#y = curve_length_list\n",
        "#y = np.logspace(k_interval_times[0], k_interval_times[len(k_interval_times) - 1], len(k_interval_times)) \n",
        "\n",
        "plt.title(\"Tamil Nadu\") \n",
        "plt.xlabel(\"k\") \n",
        "plt.ylabel(\"<L(k)>\") \n",
        "plt.plot(x,y) \n",
        "plt.show()"
      ],
      "execution_count": 65,
      "outputs": [
        {
          "output_type": "display_data",
          "data": {
            "image/png": "[encoded data removed]",
            "text/plain": [
              "<Figure size 432x288 with 1 Axes>"
            ]
          },
          "metadata": {
            "tags": [],
            "needs_background": "light"
          }
        }
      ]
    },
    {
      "cell_type": "code",
      "metadata": {
        "id": "M4ofOUzT_GFq",
        "colab_type": "code",
        "colab": {
          "base_uri": "https://localhost:8080/",
          "height": 352
        },
        "outputId": "c5cd19bd-d8af-4e6b-cc1f-ff275c30aa47"
      },
      "source": [
        "import numpy as np\n",
        "import pylab\n",
        "Polynomial = np.polynomial.Polynomial\n",
        "\n",
        "# The data: conc = [P] and absorbance, A\n",
        "#conc = k_interval_times\n",
        "\n",
        "conc = log_x #np.array(log_x, dtype=np.int)\n",
        "#A = curve_length_list\n",
        "\n",
        "\n",
        "\n",
        "A = log_y #np.array(log_y, dtype=np.int)\n",
        "#np.array(data, dtype=np.float32)\n",
        "#int_array = float_array.astype(int)\n",
        "\n",
        "\n",
        "cmin, cmax = min(conc), max(conc)\n",
        "pfit, stats = Polynomial.fit(conc, A, 1, full=True, window=(cmin, cmax),\n",
        "                                                    domain=(cmin, cmax))\n",
        "\n",
        "print('Raw fit results:', pfit, stats, sep='\\n')\n",
        "\n",
        "A0, m = pfit\n",
        "resid, rank, sing_val, rcond = stats\n",
        "rms = np.sqrt(resid[0]/len(A))\n",
        "\n",
        "print('Fit: A = {:.3f}[P] + {:.3f}'.format(m, A0),\n",
        "      '(rms residual = {:.4f})'.format(rms))\n",
        "\n",
        "#res = [element * pfit for element in conc]\n",
        "pylab.scatter(conc, A)\n",
        "pylab.plot(conc, pfit(np.array(conc, dtype=np.float32)), color='k')\n",
        "pylab.xlabel('k')\n",
        "pylab.ylabel('l')\n",
        "pylab.show()"
      ],
      "execution_count": 66,
      "outputs": [
        {
          "output_type": "stream",
          "text": [
            "Raw fit results:\n",
            "poly([ 3.92691955 -1.00540688])\n",
            "[array([0.10272135]), 2, array([1.40423584, 0.1676953 ]), 1.6431300764452317e-14]\n",
            "Fit: A = -1.005[P] + 3.927 (rms residual = 0.0373)\n"
          ],
          "name": "stdout"
        },
        {
          "output_type": "display_data",
          "data": {
            "image/png": "[encoded data removed]",
            "text/plain": [
              "<Figure size 432x288 with 1 Axes>"
            ]
          },
          "metadata": {
            "tags": [],
            "needs_background": "light"
          }
        }
      ]
    },
    {
      "cell_type": "code",
      "metadata": {
        "id": "hxUKoN2U-eok",
        "colab_type": "code",
        "colab": {
          "base_uri": "https://localhost:8080/",
          "height": 352
        },
        "outputId": "5af9ca08-47fa-45e5-be8d-da81c04d3963"
      },
      "source": [
        "import numpy as np\n",
        "import pylab\n",
        "Polynomial = np.polynomial.Polynomial\n",
        "\n",
        "# The data: conc = [P] and absorbance, A\n",
        "conc = k_interval_times\n",
        "A = curve_length_list\n",
        "\n",
        "cmin, cmax = min(conc), max(conc)\n",
        "pfit, stats = Polynomial.fit(conc, A, 1, full=True, window=(cmin, cmax),\n",
        "                                                    domain=(cmin, cmax))\n",
        "\n",
        "print('Raw fit results:', pfit, stats, sep='\\n')\n",
        "\n",
        "A0, m = pfit\n",
        "resid, rank, sing_val, rcond = stats\n",
        "rms = np.sqrt(resid[0]/len(A))\n",
        "\n",
        "print('Fit: A = {:.3f}[P] + {:.3f}'.format(m, A0),\n",
        "      '(rms residual = {:.4f})'.format(rms))\n",
        "\n",
        "pylab.plot(conc, A)\n",
        "pylab.plot(conc, pfit(conc), color='k')\n",
        "pylab.xlabel('k')\n",
        "pylab.ylabel('l')\n",
        "pylab.show()"
      ],
      "execution_count": 67,
      "outputs": [
        {
          "output_type": "stream",
          "text": [
            "Raw fit results:\n",
            "poly([1275.96377941  -21.04531611])\n",
            "[array([30661864.35671312]), 2, array([1.36910029, 0.35435068]), 1.6431300764452317e-14]\n",
            "Fit: A = -21.045[P] + 1275.964 (rms residual = 643.6999)\n"
          ],
          "name": "stdout"
        },
        {
          "output_type": "display_data",
          "data": {
            "image/png": "[encoded data removed]",
            "text/plain": [
              "<Figure size 432x288 with 1 Axes>"
            ]
          },
          "metadata": {
            "tags": [],
            "needs_background": "light"
          }
        }
      ]
    },
    {
      "cell_type": "markdown",
      "metadata": {
        "id": "n30k8rPnjTL8",
        "colab_type": "text"
      },
      "source": [
        "#KARNATAKA"
      ]
    },
    {
      "cell_type": "code",
      "metadata": {
        "id": "M1VQDiRrlAX8",
        "colab_type": "code",
        "colab": {
          "base_uri": "https://localhost:8080/",
          "height": 399
        },
        "outputId": "a5b80ba0-9c84-4c45-f1ab-1e74c0ec4a93"
      },
      "source": [
        "# k_value = int(input(\"Enter the bound og 'k' \"))\n",
        "data_list = karna_np_array[1:154]\n",
        "#data_list = data_list.reshape(-1)\n",
        "print(data_list.shape)\n",
        "num_k =  int(input(\"Number of k values to generate: \"))  #number of k values to generate.\n",
        "k_max =  int(input(\"Max. k value: \"))  #the maximum k the k array is generated uniformly in log space from 2 to k_max\n",
        "\n",
        "k_interval_times, curve_length_list = curve_length(data_list, num_k, k_max)\n",
        "print(k_interval_times, curve_length_list)"
      ],
      "execution_count": 68,
      "outputs": [
        {
          "output_type": "stream",
          "text": [
            "(153,)\n",
            "Number of k values to generate: 75\n",
            "Max. k value: 14\n",
            "[ 2  3  4  5  6  7  8  9 10 11 12 13 14 15 16 17 18 19 20 21 22 23 24 25\n",
            " 26 27 28 29 30 31 32 33 34 35 36 37 38 39 40 41 42 43 44 45 46 47 48 49\n",
            " 50 51 52 53 54 55 56 57 58 59 60 61 62 63 64 65 66 67 68 69 70 71 72 73\n",
            " 74 75] [6921.40666667 3984.87703704 2792.64864865 2074.67770115 1594.9162963\n",
            " 1329.04089963 1135.02864583  981.81001372  873.16255238  785.01123119\n",
            "  710.61745932  656.16425704  612.62905734  572.78504033  537.91379123\n",
            "  509.71280277  484.36921909  455.67708746  433.58995238  411.46668312\n",
            "  392.30360631  376.26923098  361.00842978  347.3051648   334.76149294\n",
            "  323.13070162  312.74076166  301.30421091  291.16725926  281.17610464\n",
            "  273.37123617  265.8717014   259.28412715  253.02756074  246.23358196\n",
            "  239.45734047  233.52400739  228.14306827  223.46533333  218.39538022\n",
            "  213.16956412  208.59414475  203.6629414   199.35283036  195.51921865\n",
            "  191.39387868  186.86952643  182.22950188  178.32295467  173.78860318\n",
            "  169.30658284  165.33191829  161.86729665  158.48746506  155.29635113\n",
            "  152.36524059  149.78480052  147.33333009  145.00377778  142.50121376\n",
            "  139.83441308  137.26485021  135.00593567  132.6748985   130.2663411\n",
            "  127.93348916  126.12033126  124.21275521  122.37617493  120.57255575\n",
            "  118.56002443  116.55858741  114.88430103  113.51350993]\n"
          ],
          "name": "stdout"
        }
      ]
    },
    {
      "cell_type": "code",
      "metadata": {
        "id": "5SpsRVlmlGIK",
        "colab_type": "code",
        "colab": {
          "base_uri": "https://localhost:8080/",
          "height": 35
        },
        "outputId": "7186b54e-849c-4d10-e1ec-35f256329feb"
      },
      "source": [
        "hfd(data_list)"
      ],
      "execution_count": 69,
      "outputs": [
        {
          "output_type": "execute_result",
          "data": {
            "text/plain": [
              "1.060731949937118"
            ]
          },
          "metadata": {
            "tags": []
          },
          "execution_count": 69
        }
      ]
    },
    {
      "cell_type": "code",
      "metadata": {
        "id": "vpmCQbAWlSID",
        "colab_type": "code",
        "colab": {
          "base_uri": "https://localhost:8080/",
          "height": 296
        },
        "outputId": "be58d297-90aa-4d7c-8388-69b88b646c90"
      },
      "source": [
        "import math\n",
        "x = k_interval_times\n",
        "#x = np.logspace(curve_length[0], curve_length[len(curve_length) - 1], len(curve_length))\n",
        "log_y = []\n",
        "for i in curve_length_list:\n",
        "  log_y.append(math.log10(i))\n",
        "y = log_y\n",
        "#y = curve_length_list\n",
        "#y = np.logspace(k_interval_times[0], k_interval_times[len(k_interval_times) - 1], len(k_interval_times)) \n",
        "\n",
        "plt.title(\"Karnataka\") \n",
        "plt.xlabel(\"k_interval_times\") \n",
        "plt.ylabel(\"curve_length\") \n",
        "plt.plot(x,y) \n",
        "plt.show()"
      ],
      "execution_count": 70,
      "outputs": [
        {
          "output_type": "display_data",
          "data": {
            "image/png": "[encoded data removed]",
            "text/plain": [
              "<Figure size 432x288 with 1 Axes>"
            ]
          },
          "metadata": {
            "tags": [],
            "needs_background": "light"
          }
        }
      ]
    },
    {
      "cell_type": "code",
      "metadata": {
        "id": "NUVDCFi8_o67",
        "colab_type": "code",
        "colab": {
          "base_uri": "https://localhost:8080/",
          "height": 295
        },
        "outputId": "756e5e68-4b98-44f5-ae76-46dbb6235ebe"
      },
      "source": [
        "import math\n",
        "#x = k_interval_times\n",
        "log_x = []\n",
        "for i in k_interval_times:\n",
        "  log_x.append(math.log10(i))\n",
        "  #log_x.append(int(i))\n",
        "x = log_x\n",
        "#x = np.logspace(curve_length[0], curve_length[len(curve_length) - 1], len(curve_length))\n",
        "log_y = []\n",
        "for i in curve_length_list:\n",
        "  log_y.append(math.log10(i))\n",
        "  #log_y.append(int(i))\n",
        "y = log_y\n",
        "#y = curve_length_list\n",
        "#y = np.logspace(k_interval_times[0], k_interval_times[len(k_interval_times) - 1], len(k_interval_times)) \n",
        "\n",
        "plt.title(\"Karnataka\") \n",
        "plt.xlabel(\"k\") \n",
        "plt.ylabel(\"<L(k)>\") \n",
        "plt.plot(x,y) \n",
        "plt.show()"
      ],
      "execution_count": 72,
      "outputs": [
        {
          "output_type": "display_data",
          "data": {
            "image/png": "[encoded data removed]",
            "text/plain": [
              "<Figure size 432x288 with 1 Axes>"
            ]
          },
          "metadata": {
            "tags": [],
            "needs_background": "light"
          }
        }
      ]
    },
    {
      "cell_type": "code",
      "metadata": {
        "id": "D_87a_L5_7HS",
        "colab_type": "code",
        "colab": {
          "base_uri": "https://localhost:8080/",
          "height": 352
        },
        "outputId": "68c53e10-cae3-4057-817c-f614ce838047"
      },
      "source": [
        "import numpy as np\n",
        "import pylab\n",
        "Polynomial = np.polynomial.Polynomial\n",
        "\n",
        "# The data: conc = [P] and absorbance, A\n",
        "#conc = k_interval_times\n",
        "\n",
        "conc = log_x #np.array(log_x, dtype=np.int)\n",
        "#A = curve_length_list\n",
        "\n",
        "\n",
        "\n",
        "A = log_y #np.array(log_y, dtype=np.int)\n",
        "#np.array(data, dtype=np.float32)\n",
        "#int_array = float_array.astype(int)\n",
        "\n",
        "\n",
        "cmin, cmax = min(conc), max(conc)\n",
        "pfit, stats = Polynomial.fit(conc, A, 1, full=True, window=(cmin, cmax),\n",
        "                                                    domain=(cmin, cmax))\n",
        "\n",
        "print('Raw fit results:', pfit, stats, sep='\\n')\n",
        "\n",
        "A0, m = pfit\n",
        "resid, rank, sing_val, rcond = stats\n",
        "rms = np.sqrt(resid[0]/len(A))\n",
        "\n",
        "print('Fit: A = {:.3f}[P] + {:.3f}'.format(m, A0),\n",
        "      '(rms residual = {:.4f})'.format(rms))\n",
        "\n",
        "#res = [element * pfit for element in conc]\n",
        "pylab.scatter(conc, A)\n",
        "pylab.plot(conc, pfit(np.array(conc, dtype=np.float32)), color='k')\n",
        "pylab.xlabel('k')\n",
        "pylab.ylabel('l')\n",
        "pylab.show()"
      ],
      "execution_count": 73,
      "outputs": [
        {
          "output_type": "stream",
          "text": [
            "Raw fit results:\n",
            "poly([ 4.03879911 -1.06073195])\n",
            "[array([0.0418653]), 2, array([1.40423584, 0.1676953 ]), 1.6431300764452317e-14]\n",
            "Fit: A = -1.061[P] + 4.039 (rms residual = 0.0238)\n"
          ],
          "name": "stdout"
        },
        {
          "output_type": "display_data",
          "data": {
            "image/png": "[encoded data removed]",
            "text/plain": [
              "<Figure size 432x288 with 1 Axes>"
            ]
          },
          "metadata": {
            "tags": [],
            "needs_background": "light"
          }
        }
      ]
    },
    {
      "cell_type": "code",
      "metadata": {
        "id": "tK-AdIBy-ndV",
        "colab_type": "code",
        "colab": {
          "base_uri": "https://localhost:8080/",
          "height": 352
        },
        "outputId": "d4cb6f20-d4d5-4f18-c239-82c208151118"
      },
      "source": [
        "import numpy as np\n",
        "import pylab\n",
        "Polynomial = np.polynomial.Polynomial\n",
        "\n",
        "# The data: conc = [P] and absorbance, A\n",
        "conc = k_interval_times\n",
        "A = curve_length_list\n",
        "\n",
        "cmin, cmax = min(conc), max(conc)\n",
        "pfit, stats = Polynomial.fit(conc, A, 1, full=True, window=(cmin, cmax),\n",
        "                                                    domain=(cmin, cmax))\n",
        "\n",
        "print('Raw fit results:', pfit, stats, sep='\\n')\n",
        "\n",
        "A0, m = pfit\n",
        "resid, rank, sing_val, rcond = stats\n",
        "rms = np.sqrt(resid[0]/len(A))\n",
        "\n",
        "print('Fit: A = {:.3f}[P] + {:.3f}'.format(m, A0),\n",
        "      '(rms residual = {:.4f})'.format(rms))\n",
        "\n",
        "pylab.plot(conc, A)\n",
        "pylab.plot(conc, pfit(conc), color='k')\n",
        "pylab.xlabel('k')\n",
        "pylab.ylabel('l')\n",
        "pylab.show()"
      ],
      "execution_count": null,
      "outputs": [
        {
          "output_type": "stream",
          "text": [
            "Raw fit results:\n",
            "poly([4459.24338175  -88.73140718])\n",
            "[array([1.40786955e+08]), 2, array([1.31074049, 0.53099847]), 2.886579864025407e-15]\n",
            "Fit: A = -88.731[P] + 4459.243 (rms residual = 3290.8609)\n"
          ],
          "name": "stdout"
        },
        {
          "output_type": "display_data",
          "data": {
            "image/png": "[encoded data removed]",
            "text/plain": [
              "<Figure size 432x288 with 1 Axes>"
            ]
          },
          "metadata": {
            "tags": [],
            "needs_background": "light"
          }
        }
      ]
    },
    {
      "cell_type": "markdown",
      "metadata": {
        "id": "32yO6HjBjZVM",
        "colab_type": "text"
      },
      "source": [
        "#UTTAR PRADESH"
      ]
    },
    {
      "cell_type": "code",
      "metadata": {
        "id": "BxX8LRf7lwJ7",
        "colab_type": "code",
        "colab": {
          "base_uri": "https://localhost:8080/",
          "height": 399
        },
        "outputId": "5da9eda4-30de-4b10-f0f0-0546864710fa"
      },
      "source": [
        "# k_value = int(input(\"Enter the bound og 'k' \"))\n",
        "data_list = up_np_array[1:154]\n",
        "#data_list = data_list.reshape(-1)\n",
        "print(data_list.shape)\n",
        "num_k =  int(input(\"Number of k values to generate: \"))  #number of k values to generate.\n",
        "k_max =  int(input(\"Max. k value: \"))  #the maximum k the k array is generated uniformly in log space from 2 to k_max\n",
        "\n",
        "k_interval_times, curve_length_list = curve_length(data_list, num_k, k_max)\n",
        "print(k_interval_times, curve_length_list)"
      ],
      "execution_count": 74,
      "outputs": [
        {
          "output_type": "stream",
          "text": [
            "(153,)\n",
            "Number of k values to generate: 75\n",
            "Max. k value: 14\n",
            "[ 2  3  4  5  6  7  8  9 10 11 12 13 14 15 16 17 18 19 20 21 22 23 24 25\n",
            " 26 27 28 29 30 31 32 33 34 35 36 37 38 39 40 41 42 43 44 45 46 47 48 49\n",
            " 50 51 52 53 54 55 56 57 58 59 60 61 62 63 64 65 66 67 68 69 70 71 72 73\n",
            " 74 75] [3595.00333333 2187.44888889 1571.8597973  1216.7323954   993.29771605\n",
            "  834.2907122   717.84114583  629.84087791  562.42026667  507.23327361\n",
            "  463.76872896  426.85539786  394.90702948  368.39395556  344.25490994\n",
            "  323.84306941  306.46110131  291.8199446   277.62347619  265.50741718\n",
            "  254.52196344  244.78158955  235.2943287   226.83231573  218.65609923\n",
            "  211.56789107  203.98411079  196.91631473  190.60011852  184.96199076\n",
            "  179.86334229  175.25517804  170.58781125  165.44394947  160.74362711\n",
            "  156.21938812  151.91574331  147.43334626  143.495125    139.76320715\n",
            "  136.05895692  132.6062527   129.34798397  126.14234659  122.83163475\n",
            "  119.54611213  116.6526331   113.85949732  111.21819733  108.48696203\n",
            "  104.90267979  101.63264977   98.70144287   95.93792337   93.45893313\n",
            "   91.19770186   89.31339948   87.63836614   86.15831481   84.70590931\n",
            "   83.39374308   82.005303     80.71318054   79.62890487   78.57266884\n",
            "   77.46383697   76.38116986   75.21133363   74.06920117   73.03377655\n",
            "   72.14021776   71.25811983   70.39467554   69.63374459]\n"
          ],
          "name": "stdout"
        }
      ]
    },
    {
      "cell_type": "code",
      "metadata": {
        "id": "6JRPwGGnlqUy",
        "colab_type": "code",
        "colab": {
          "base_uri": "https://localhost:8080/",
          "height": 35
        },
        "outputId": "6c684e3c-29a7-494b-ee70-3ff8cefbc3d6"
      },
      "source": [
        "hfd(data_list)"
      ],
      "execution_count": 75,
      "outputs": [
        {
          "output_type": "execute_result",
          "data": {
            "text/plain": [
              "1.0553906811543339"
            ]
          },
          "metadata": {
            "tags": []
          },
          "execution_count": 75
        }
      ]
    },
    {
      "cell_type": "code",
      "metadata": {
        "id": "fHZg9rNnlVJj",
        "colab_type": "code",
        "colab": {
          "base_uri": "https://localhost:8080/",
          "height": 296
        },
        "outputId": "28e707ec-4e4a-4327-9541-e6510be81e9e"
      },
      "source": [
        "import math\n",
        "x = k_interval_times\n",
        "#x = np.logspace(curve_length[0], curve_length[len(curve_length) - 1], len(curve_length))\n",
        "log_y = []\n",
        "for i in curve_length_list:\n",
        "  log_y.append(math.log10(i))\n",
        "y = log_y\n",
        "#y = curve_length_list\n",
        "#y = np.logspace(k_interval_times[0], k_interval_times[len(k_interval_times) - 1], len(k_interval_times)) \n",
        "\n",
        "plt.title(\"UP\") \n",
        "plt.xlabel(\"k_interval_times\") \n",
        "plt.ylabel(\"curve_length\") \n",
        "plt.plot(x,y) \n",
        "plt.show()"
      ],
      "execution_count": 76,
      "outputs": [
        {
          "output_type": "display_data",
          "data": {
            "image/png": "[encoded data removed]",
            "text/plain": [
              "<Figure size 432x288 with 1 Axes>"
            ]
          },
          "metadata": {
            "tags": [],
            "needs_background": "light"
          }
        }
      ]
    },
    {
      "cell_type": "code",
      "metadata": {
        "id": "Om4wXORqAVSp",
        "colab_type": "code",
        "colab": {
          "base_uri": "https://localhost:8080/",
          "height": 295
        },
        "outputId": "5aecc31d-931e-4551-b95a-ce4a3bd2ab44"
      },
      "source": [
        "import math\n",
        "#x = k_interval_times\n",
        "log_x = []\n",
        "for i in k_interval_times:\n",
        "  log_x.append(math.log10(i))\n",
        "  #log_x.append(int(i))\n",
        "x = log_x\n",
        "#x = np.logspace(curve_length[0], curve_length[len(curve_length) - 1], len(curve_length))\n",
        "log_y = []\n",
        "for i in curve_length_list:\n",
        "  log_y.append(math.log10(i))\n",
        "  #log_y.append(int(i))\n",
        "y = log_y\n",
        "#y = curve_length_list\n",
        "#y = np.logspace(k_interval_times[0], k_interval_times[len(k_interval_times) - 1], len(k_interval_times)) \n",
        "\n",
        "plt.title(\"Uttar Pradesh\") \n",
        "plt.xlabel(\"k\") \n",
        "plt.ylabel(\"<L(k)>\") \n",
        "plt.plot(x,y) \n",
        "plt.show()"
      ],
      "execution_count": 77,
      "outputs": [
        {
          "output_type": "display_data",
          "data": {
            "image/png": "[encoded data removed]",
            "text/plain": [
              "<Figure size 432x288 with 1 Axes>"
            ]
          },
          "metadata": {
            "tags": [],
            "needs_background": "light"
          }
        }
      ]
    },
    {
      "cell_type": "code",
      "metadata": {
        "id": "0Tvm6ZGhALBJ",
        "colab_type": "code",
        "colab": {
          "base_uri": "https://localhost:8080/",
          "height": 352
        },
        "outputId": "665af18c-a440-4f33-bb1d-54e937f7d33d"
      },
      "source": [
        "import numpy as np\n",
        "import pylab\n",
        "Polynomial = np.polynomial.Polynomial\n",
        "\n",
        "# The data: conc = [P] and absorbance, A\n",
        "#conc = k_interval_times\n",
        "\n",
        "conc = log_x #np.array(log_x, dtype=np.int)\n",
        "#A = curve_length_list\n",
        "\n",
        "\n",
        "\n",
        "A = log_y #np.array(log_y, dtype=np.int)\n",
        "#np.array(data, dtype=np.float32)\n",
        "#int_array = float_array.astype(int)\n",
        "\n",
        "\n",
        "cmin, cmax = min(conc), max(conc)\n",
        "pfit, stats = Polynomial.fit(conc, A, 1, full=True, window=(cmin, cmax),\n",
        "                                                    domain=(cmin, cmax))\n",
        "\n",
        "print('Raw fit results:', pfit, stats, sep='\\n')\n",
        "\n",
        "A0, m = pfit\n",
        "resid, rank, sing_val, rcond = stats\n",
        "rms = np.sqrt(resid[0]/len(A))\n",
        "\n",
        "print('Fit: A = {:.3f}[P] + {:.3f}'.format(m, A0),\n",
        "      '(rms residual = {:.4f})'.format(rms))\n",
        "\n",
        "#res = [element * pfit for element in conc]\n",
        "pylab.scatter(conc, A)\n",
        "pylab.plot(conc, pfit(np.array(conc, dtype=np.float32)), color='k')\n",
        "pylab.xlabel('k')\n",
        "pylab.ylabel('l')\n",
        "pylab.show()"
      ],
      "execution_count": 78,
      "outputs": [
        {
          "output_type": "stream",
          "text": [
            "Raw fit results:\n",
            "poly([ 3.82674021 -1.05539068])\n",
            "[array([0.01800765]), 2, array([1.40423584, 0.1676953 ]), 1.6431300764452317e-14]\n",
            "Fit: A = -1.055[P] + 3.827 (rms residual = 0.0156)\n"
          ],
          "name": "stdout"
        },
        {
          "output_type": "display_data",
          "data": {
            "image/png": "[encoded data removed]",
            "text/plain": [
              "<Figure size 432x288 with 1 Axes>"
            ]
          },
          "metadata": {
            "tags": [],
            "needs_background": "light"
          }
        }
      ]
    },
    {
      "cell_type": "code",
      "metadata": {
        "id": "9gN39QY2-u0B",
        "colab_type": "code",
        "colab": {
          "base_uri": "https://localhost:8080/",
          "height": 352
        },
        "outputId": "010f5288-0421-422c-cc22-3ae58bf4145f"
      },
      "source": [
        "import numpy as np\n",
        "import pylab\n",
        "Polynomial = np.polynomial.Polynomial\n",
        "\n",
        "# The data: conc = [P] and absorbance, A\n",
        "conc = k_interval_times\n",
        "A = curve_length_list\n",
        "\n",
        "cmin, cmax = min(conc), max(conc)\n",
        "pfit, stats = Polynomial.fit(conc, A, 1, full=True, window=(cmin, cmax),\n",
        "                                                    domain=(cmin, cmax))\n",
        "\n",
        "print('Raw fit results:', pfit, stats, sep='\\n')\n",
        "\n",
        "A0, m = pfit\n",
        "resid, rank, sing_val, rcond = stats\n",
        "rms = np.sqrt(resid[0]/len(A))\n",
        "\n",
        "print('Fit: A = {:.3f}[P] + {:.3f}'.format(m, A0),\n",
        "      '(rms residual = {:.4f})'.format(rms))\n",
        "\n",
        "pylab.plot(conc, A)\n",
        "pylab.plot(conc, pfit(conc), color='k')\n",
        "pylab.xlabel('k')\n",
        "pylab.ylabel('l')\n",
        "pylab.show()"
      ],
      "execution_count": 79,
      "outputs": [
        {
          "output_type": "stream",
          "text": [
            "Raw fit results:\n",
            "poly([865.31299456 -14.31401297])\n",
            "[array([12890555.03535963]), 2, array([1.36910029, 0.35435068]), 1.6431300764452317e-14]\n",
            "Fit: A = -14.314[P] + 865.313 (rms residual = 417.3688)\n"
          ],
          "name": "stdout"
        },
        {
          "output_type": "display_data",
          "data": {
            "image/png": "[encoded data removed]",
            "text/plain": [
              "<Figure size 432x288 with 1 Axes>"
            ]
          },
          "metadata": {
            "tags": [],
            "needs_background": "light"
          }
        }
      ]
    },
    {
      "cell_type": "markdown",
      "metadata": {
        "id": "AKvAI_RTjdRE",
        "colab_type": "text"
      },
      "source": [
        "# DELHI"
      ]
    },
    {
      "cell_type": "code",
      "metadata": {
        "id": "0Lib-cbmlxQb",
        "colab_type": "code",
        "colab": {
          "base_uri": "https://localhost:8080/",
          "height": 399
        },
        "outputId": "b044d1d9-ad38-449b-eb8e-268e7918124f"
      },
      "source": [
        "# k_value = int(input(\"Enter the bound og 'k' \"))\n",
        "data_list = delhi_np_array[1:154]\n",
        "#data_list = data_list.reshape(-1)\n",
        "print(data_list.shape)\n",
        "num_k =  int(input(\"Number of k values to generate: \"))  #number of k values to generate.\n",
        "k_max =  int(input(\"Max. k value: \"))  #the maximum k the k array is generated uniformly in log space from 2 to k_max\n",
        "\n",
        "k_interval_times, curve_length_list = curve_length(data_list, num_k, k_max)\n",
        "print(k_interval_times, curve_length_list)"
      ],
      "execution_count": 80,
      "outputs": [
        {
          "output_type": "stream",
          "text": [
            "(153,)\n",
            "Number of k values to generate: 75\n",
            "Max. k value: 14\n",
            "[ 2  3  4  5  6  7  8  9 10 11 12 13 14 15 16 17 18 19 20 21 22 23 24 25\n",
            " 26 27 28 29 30 31 32 33 34 35 36 37 38 39 40 41 42 43 44 45 46 47 48 49\n",
            " 50 51 52 53 54 55 56 57 58 59 60 61 62 63 64 65 66 67 68 69 70 71 72 73\n",
            " 74 75] [4453.88       2714.38222222 1919.5777027  1475.60621609 1185.36074074\n",
            "  982.811995    842.72309028  733.63717421  645.99493333  574.98526267\n",
            "  517.96657548  462.88141681  424.14130224  390.90346667  356.91848416\n",
            "  333.00081417  312.31087106  290.62287297  270.34330952  255.2157383\n",
            "  243.08627598  232.19675077  221.76159336  210.58525867  199.5056213\n",
            "  190.86259208  183.52379738  176.46558694  169.05974815  161.84854486\n",
            "  155.84391276  149.35613249  143.9898738   138.20034985  132.23032407\n",
            "  126.89772899  121.62834718  117.69436437  115.03708333  112.47550094\n",
            "  109.88822301  106.90776913  103.63457926  100.20323731   96.50954768\n",
            "   92.87514327   89.00179639   85.20039553   81.67669333   78.16740168\n",
            "   75.59894174   73.041719     70.70967332   68.22527423   65.70631378\n",
            "   63.19811224   60.58085612   58.02271897   55.6035       53.28414273\n",
            "   51.27308583   49.50469312   47.74005127   45.95173782   44.22891449\n",
            "   42.6314407    41.22169499   39.97768098   38.7954519    37.57287147\n",
            "   36.38103352   35.22592586   34.08356859   32.88604444]\n"
          ],
          "name": "stdout"
        }
      ]
    },
    {
      "cell_type": "code",
      "metadata": {
        "id": "sf3yA3kklrbi",
        "colab_type": "code",
        "colab": {
          "base_uri": "https://localhost:8080/",
          "height": 35
        },
        "outputId": "6f72554a-34a2-43b6-c71a-b3343c7911b8"
      },
      "source": [
        "hfd(data_list)"
      ],
      "execution_count": 81,
      "outputs": [
        {
          "output_type": "execute_result",
          "data": {
            "text/plain": [
              "1.3398115362443392"
            ]
          },
          "metadata": {
            "tags": []
          },
          "execution_count": 81
        }
      ]
    },
    {
      "cell_type": "code",
      "metadata": {
        "id": "BcmU8IK8lWPk",
        "colab_type": "code",
        "colab": {
          "base_uri": "https://localhost:8080/",
          "height": 296
        },
        "outputId": "f84676b0-b881-4df6-b221-b4874fb01e55"
      },
      "source": [
        "import math\n",
        "x = k_interval_times\n",
        "#x = np.logspace(curve_length[0], curve_length[len(curve_length) - 1], len(curve_length))\n",
        "log_y = []\n",
        "for i in curve_length_list:\n",
        "  log_y.append(math.log10(i))\n",
        "y = log_y\n",
        "#y = curve_length_list\n",
        "#y = np.logspace(k_interval_times[0], k_interval_times[len(k_interval_times) - 1], len(k_interval_times)) \n",
        "\n",
        "plt.title(\"Delhi\") \n",
        "plt.xlabel(\"k_interval_times\") \n",
        "plt.ylabel(\"curve_length\") \n",
        "plt.plot(x,y) \n",
        "plt.show()"
      ],
      "execution_count": 82,
      "outputs": [
        {
          "output_type": "display_data",
          "data": {
            "image/png": "[encoded data removed]",
            "text/plain": [
              "<Figure size 432x288 with 1 Axes>"
            ]
          },
          "metadata": {
            "tags": [],
            "needs_background": "light"
          }
        }
      ]
    },
    {
      "cell_type": "code",
      "metadata": {
        "id": "BA44dTCvAhzG",
        "colab_type": "code",
        "colab": {
          "base_uri": "https://localhost:8080/",
          "height": 295
        },
        "outputId": "712d39c6-68ad-45c7-d9ee-825999221f57"
      },
      "source": [
        "import math\n",
        "#x = k_interval_times\n",
        "log_x = []\n",
        "for i in k_interval_times:\n",
        "  log_x.append(math.log10(i))\n",
        "  #log_x.append(int(i))\n",
        "x = log_x\n",
        "#x = np.logspace(curve_length[0], curve_length[len(curve_length) - 1], len(curve_length))\n",
        "log_y = []\n",
        "for i in curve_length_list:\n",
        "  log_y.append(math.log10(i))\n",
        "  #log_y.append(int(i))\n",
        "y = log_y\n",
        "#y = curve_length_list\n",
        "#y = np.logspace(k_interval_times[0], k_interval_times[len(k_interval_times) - 1], len(k_interval_times)) \n",
        "\n",
        "plt.title(\"Delhi\") \n",
        "plt.xlabel(\"k\") \n",
        "plt.ylabel(\"<L(k)>\") \n",
        "plt.plot(x,y) \n",
        "plt.show()"
      ],
      "execution_count": 84,
      "outputs": [
        {
          "output_type": "display_data",
          "data": {
            "image/png": "[encoded data removed]",
            "text/plain": [
              "<Figure size 432x288 with 1 Axes>"
            ]
          },
          "metadata": {
            "tags": [],
            "needs_background": "light"
          }
        }
      ]
    },
    {
      "cell_type": "code",
      "metadata": {
        "id": "sTgJfdngAp0n",
        "colab_type": "code",
        "colab": {
          "base_uri": "https://localhost:8080/",
          "height": 352
        },
        "outputId": "ba686d6d-7caf-477b-aa5a-b6b9317512ce"
      },
      "source": [
        "import numpy as np\n",
        "import pylab\n",
        "Polynomial = np.polynomial.Polynomial\n",
        "\n",
        "# The data: conc = [P] and absorbance, A\n",
        "#conc = k_interval_times\n",
        "\n",
        "conc = log_x #np.array(log_x, dtype=np.int)\n",
        "#A = curve_length_list\n",
        "\n",
        "\n",
        "\n",
        "A = log_y #np.array(log_y, dtype=np.int)\n",
        "#np.array(data, dtype=np.float32)\n",
        "#int_array = float_array.astype(int)\n",
        "\n",
        "\n",
        "cmin, cmax = min(conc), max(conc)\n",
        "pfit, stats = Polynomial.fit(conc, A, 1, full=True, window=(cmin, cmax),\n",
        "                                                    domain=(cmin, cmax))\n",
        "\n",
        "print('Raw fit results:', pfit, stats, sep='\\n')\n",
        "\n",
        "A0, m = pfit\n",
        "resid, rank, sing_val, rcond = stats\n",
        "rms = np.sqrt(resid[0]/len(A))\n",
        "\n",
        "print('Fit: A = {:.3f}[P] + {:.3f}'.format(m, A0),\n",
        "      '(rms residual = {:.4f})'.format(rms))\n",
        "\n",
        "#res = [element * pfit for element in conc]\n",
        "pylab.scatter(conc, A)\n",
        "pylab.plot(conc, pfit(np.array(conc, dtype=np.float32)), color='k')\n",
        "pylab.xlabel('k')\n",
        "pylab.ylabel('l')\n",
        "pylab.show()"
      ],
      "execution_count": 85,
      "outputs": [
        {
          "output_type": "stream",
          "text": [
            "Raw fit results:\n",
            "poly([ 4.1547682  -1.33981154])\n",
            "[array([0.21704168]), 2, array([1.40423584, 0.1676953 ]), 1.6431300764452317e-14]\n",
            "Fit: A = -1.340[P] + 4.155 (rms residual = 0.0542)\n"
          ],
          "name": "stdout"
        },
        {
          "output_type": "display_data",
          "data": {
            "image/png": "[encoded data removed]",
            "text/plain": [
              "<Figure size 432x288 with 1 Axes>"
            ]
          },
          "metadata": {
            "tags": [],
            "needs_background": "light"
          }
        }
      ]
    },
    {
      "cell_type": "code",
      "metadata": {
        "id": "Xqxz-haX-16J",
        "colab_type": "code",
        "colab": {
          "base_uri": "https://localhost:8080/",
          "height": 352
        },
        "outputId": "51ec787e-b9d9-4e17-ed8f-93dc9f0e3533"
      },
      "source": [
        "import numpy as np\n",
        "import pylab\n",
        "Polynomial = np.polynomial.Polynomial\n",
        "\n",
        "# The data: conc = [P] and absorbance, A\n",
        "conc = k_interval_times\n",
        "A = curve_length_list\n",
        "\n",
        "cmin, cmax = min(conc), max(conc)\n",
        "pfit, stats = Polynomial.fit(conc, A, 1, full=True, window=(cmin, cmax),\n",
        "                                                    domain=(cmin, cmax))\n",
        "\n",
        "print('Raw fit results:', pfit, stats, sep='\\n')\n",
        "\n",
        "A0, m = pfit\n",
        "resid, rank, sing_val, rcond = stats\n",
        "rms = np.sqrt(resid[0]/len(A))\n",
        "\n",
        "print('Fit: A = {:.3f}[P] + {:.3f}'.format(m, A0),\n",
        "      '(rms residual = {:.4f})'.format(rms))\n",
        "\n",
        "pylab.plot(conc, A)\n",
        "pylab.plot(conc, pfit(conc), color='k')\n",
        "pylab.xlabel('k')\n",
        "pylab.ylabel('l')\n",
        "pylab.show()"
      ],
      "execution_count": 86,
      "outputs": [
        {
          "output_type": "stream",
          "text": [
            "Raw fit results:\n",
            "poly([1016.16627151  -17.75545113])\n",
            "[array([20712522.56963192]), 2, array([1.36910029, 0.35435068]), 1.6431300764452317e-14]\n",
            "Fit: A = -17.755[P] + 1016.166 (rms residual = 529.0548)\n"
          ],
          "name": "stdout"
        },
        {
          "output_type": "display_data",
          "data": {
            "image/png": "[encoded data removed]",
            "text/plain": [
              "<Figure size 432x288 with 1 Axes>"
            ]
          },
          "metadata": {
            "tags": [],
            "needs_background": "light"
          }
        }
      ]
    },
    {
      "cell_type": "markdown",
      "metadata": {
        "id": "5n8wHUOxjhHK",
        "colab_type": "text"
      },
      "source": [
        "#WEST BENGAL"
      ]
    },
    {
      "cell_type": "code",
      "metadata": {
        "id": "gYS4Z2zZlySW",
        "colab_type": "code",
        "colab": {
          "base_uri": "https://localhost:8080/",
          "height": 399
        },
        "outputId": "f5fafe26-e645-4e69-ad86-36e852f3fc6d"
      },
      "source": [
        "# k_value = int(input(\"Enter the bound og 'k' \"))\n",
        "data_list = wb_np_array[1:154]\n",
        "#data_list = data_list.reshape(-1)\n",
        "print(data_list.shape)\n",
        "num_k =  int(input(\"Number of k values to generate: \"))  #number of k values to generate.\n",
        "k_max =  int(input(\"Max. k value: \"))  #the maximum k the k array is generated uniformly in log space from 2 to k_max\n",
        "\n",
        "k_interval_times, curve_length_list = curve_length(data_list, num_k, k_max)\n",
        "print(k_interval_times, curve_length_list)"
      ],
      "execution_count": 87,
      "outputs": [
        {
          "output_type": "stream",
          "text": [
            "(153,)\n",
            "Number of k values to generate: 75\n",
            "Max. k value: 14\n",
            "[ 2  3  4  5  6  7  8  9 10 11 12 13 14 15 16 17 18 19 20 21 22 23 24 25\n",
            " 26 27 28 29 30 31 32 33 34 35 36 37 38 39 40 41 42 43 44 45 46 47 48 49\n",
            " 50 51 52 53 54 55 56 57 58 59 60 61 62 63 64 65 66 67 68 69 70 71 72 73\n",
            " 74 75] [2152.70666667 1364.17185185  986.94932432  770.72875402  628.74518519\n",
            "  529.44978481  457.69444444  402.16666667  357.81885714  322.79905219\n",
            "  293.84227694  269.61933215  249.17635245  231.89770535  217.80471463\n",
            "  204.386322    194.32135509  183.66838148  175.99564286  168.43909688\n",
            "  160.89854746  155.24688091  149.6458912   143.49837653  138.52530724\n",
            "  134.53502007  130.48963192  126.40013121  121.84573333  117.72248889\n",
            "  114.73754883  111.6856907   108.70438971  105.80440816  103.01901863\n",
            "  100.04448568   97.06048015   94.94266592   93.12533333   91.52912272\n",
            "   90.12228701   88.74648354   87.26325758   85.66044444   83.98160324\n",
            "   82.20895177   80.37340856   78.42353668   76.39621333   74.21130636\n",
            "   72.69208011   71.240205     69.92295382   68.7802855    67.66759293\n",
            "   66.48609829   65.24146131   63.91424634   62.56383333   61.32943286\n",
            "   60.22778692   59.22539363   58.25765991   57.30780519   56.34361522\n",
            "   55.37816819   54.43501934   53.53052732   52.64872303   51.79923501\n",
            "   50.95885845   50.09001663   49.17839022   48.28294637]\n"
          ],
          "name": "stdout"
        }
      ]
    },
    {
      "cell_type": "code",
      "metadata": {
        "id": "c2-C-lDFlsWT",
        "colab_type": "code",
        "colab": {
          "base_uri": "https://localhost:8080/",
          "height": 35
        },
        "outputId": "b864cbb5-85d3-499c-c6af-55e893852b4e"
      },
      "source": [
        "hfd(data_list)"
      ],
      "execution_count": 88,
      "outputs": [
        {
          "output_type": "execute_result",
          "data": {
            "text/plain": [
              "1.0024922751179584"
            ]
          },
          "metadata": {
            "tags": []
          },
          "execution_count": 88
        }
      ]
    },
    {
      "cell_type": "code",
      "metadata": {
        "id": "DxzYwlaflXMa",
        "colab_type": "code",
        "colab": {
          "base_uri": "https://localhost:8080/",
          "height": 296
        },
        "outputId": "85e7f8b5-ca3c-4830-a342-a72fc5c3cdce"
      },
      "source": [
        "import math\n",
        "x = k_interval_times\n",
        "#x = np.logspace(curve_length[0], curve_length[len(curve_length) - 1], len(curve_length))\n",
        "log_y = []\n",
        "for i in curve_length_list:\n",
        "  log_y.append(math.log10(i))\n",
        "y = log_y\n",
        "#y = curve_length_list\n",
        "#y = np.logspace(k_interval_times[0], k_interval_times[len(k_interval_times) - 1], len(k_interval_times)) \n",
        "\n",
        "plt.title(\"West Bengal\") \n",
        "plt.xlabel(\"k_interval_times\") \n",
        "plt.ylabel(\"curve_length\") \n",
        "plt.plot(x,y) \n",
        "plt.show()"
      ],
      "execution_count": 89,
      "outputs": [
        {
          "output_type": "display_data",
          "data": {
            "image/png": "[encoded data removed]",
            "text/plain": [
              "<Figure size 432x288 with 1 Axes>"
            ]
          },
          "metadata": {
            "tags": [],
            "needs_background": "light"
          }
        }
      ]
    },
    {
      "cell_type": "code",
      "metadata": {
        "id": "6miC7bUuA5vC",
        "colab_type": "code",
        "colab": {
          "base_uri": "https://localhost:8080/",
          "height": 295
        },
        "outputId": "87826477-9ae4-40a7-9aef-31385e0bc514"
      },
      "source": [
        "import math\n",
        "#x = k_interval_times\n",
        "log_x = []\n",
        "for i in k_interval_times:\n",
        "  log_x.append(math.log10(i))\n",
        "  #log_x.append(int(i))\n",
        "x = log_x\n",
        "#x = np.logspace(curve_length[0], curve_length[len(curve_length) - 1], len(curve_length))\n",
        "log_y = []\n",
        "for i in curve_length_list:\n",
        "  log_y.append(math.log10(i))\n",
        "  #log_y.append(int(i))\n",
        "y = log_y\n",
        "#y = curve_length_list\n",
        "#y = np.logspace(k_interval_times[0], k_interval_times[len(k_interval_times) - 1], len(k_interval_times)) \n",
        "\n",
        "plt.title(\"Delhi\") \n",
        "plt.xlabel(\"k\") \n",
        "plt.ylabel(\"<L(k)>\") \n",
        "plt.plot(x,y) \n",
        "plt.show()"
      ],
      "execution_count": 90,
      "outputs": [
        {
          "output_type": "display_data",
          "data": {
            "image/png": "[encoded data removed]",
            "text/plain": [
              "<Figure size 432x288 with 1 Axes>"
            ]
          },
          "metadata": {
            "tags": [],
            "needs_background": "light"
          }
        }
      ]
    },
    {
      "cell_type": "code",
      "metadata": {
        "id": "NLLMM84PA1Tk",
        "colab_type": "code",
        "colab": {
          "base_uri": "https://localhost:8080/",
          "height": 352
        },
        "outputId": "01f2b1bc-5241-4f5d-eae6-7e2ac78aee72"
      },
      "source": [
        "import numpy as np\n",
        "import pylab\n",
        "Polynomial = np.polynomial.Polynomial\n",
        "\n",
        "# The data: conc = [P] and absorbance, A\n",
        "#conc = k_interval_times\n",
        "\n",
        "conc = log_x #np.array(log_x, dtype=np.int)\n",
        "#A = curve_length_list\n",
        "\n",
        "\n",
        "\n",
        "A = log_y #np.array(log_y, dtype=np.int)\n",
        "#np.array(data, dtype=np.float32)\n",
        "#int_array = float_array.astype(int)\n",
        "\n",
        "\n",
        "cmin, cmax = min(conc), max(conc)\n",
        "pfit, stats = Polynomial.fit(conc, A, 1, full=True, window=(cmin, cmax),\n",
        "                                                    domain=(cmin, cmax))\n",
        "\n",
        "print('Raw fit results:', pfit, stats, sep='\\n')\n",
        "\n",
        "A0, m = pfit\n",
        "resid, rank, sing_val, rcond = stats\n",
        "rms = np.sqrt(resid[0]/len(A))\n",
        "\n",
        "print('Fit: A = {:.3f}[P] + {:.3f}'.format(m, A0),\n",
        "      '(rms residual = {:.4f})'.format(rms))\n",
        "\n",
        "#res = [element * pfit for element in conc]\n",
        "pylab.scatter(conc, A)\n",
        "pylab.plot(conc, pfit(np.array(conc, dtype=np.float32)), color='k')\n",
        "pylab.xlabel('k')\n",
        "pylab.ylabel('l')\n",
        "pylab.show()"
      ],
      "execution_count": 91,
      "outputs": [
        {
          "output_type": "stream",
          "text": [
            "Raw fit results:\n",
            "poly([ 3.57196639 -1.00249228])\n",
            "[array([0.01868148]), 2, array([1.40423584, 0.1676953 ]), 1.6431300764452317e-14]\n",
            "Fit: A = -1.002[P] + 3.572 (rms residual = 0.0159)\n"
          ],
          "name": "stdout"
        },
        {
          "output_type": "display_data",
          "data": {
            "image/png": "[encoded data removed]",
            "text/plain": [
              "<Figure size 432x288 with 1 Axes>"
            ]
          },
          "metadata": {
            "tags": [],
            "needs_background": "light"
          }
        }
      ]
    },
    {
      "cell_type": "code",
      "metadata": {
        "id": "wxMssWGN--CB",
        "colab_type": "code",
        "colab": {
          "base_uri": "https://localhost:8080/",
          "height": 352
        },
        "outputId": "4bc7ec1b-1532-42fe-da6c-69a10b8b4667"
      },
      "source": [
        "import numpy as np\n",
        "import pylab\n",
        "Polynomial = np.polynomial.Polynomial\n",
        "\n",
        "# The data: conc = [P] and absorbance, A\n",
        "conc = k_interval_times\n",
        "A = curve_length_list\n",
        "\n",
        "cmin, cmax = min(conc), max(conc)\n",
        "pfit, stats = Polynomial.fit(conc, A, 1, full=True, window=(cmin, cmax),\n",
        "                                                    domain=(cmin, cmax))\n",
        "\n",
        "print('Raw fit results:', pfit, stats, sep='\\n')\n",
        "\n",
        "A0, m = pfit\n",
        "resid, rank, sing_val, rcond = stats\n",
        "rms = np.sqrt(resid[0]/len(A))\n",
        "\n",
        "print('Fit: A = {:.3f}[P] + {:.3f}'.format(m, A0),\n",
        "      '(rms residual = {:.4f})'.format(rms))\n",
        "\n",
        "pylab.plot(conc, A)\n",
        "pylab.plot(conc, pfit(conc), color='k')\n",
        "pylab.xlabel('k')\n",
        "pylab.ylabel('l')\n",
        "pylab.show()"
      ],
      "execution_count": 92,
      "outputs": [
        {
          "output_type": "stream",
          "text": [
            "Raw fit results:\n",
            "poly([538.22513803  -8.77919532])\n",
            "[array([4719971.28617701]), 2, array([1.36910029, 0.35435068]), 1.6431300764452317e-14]\n",
            "Fit: A = -8.779[P] + 538.225 (rms residual = 252.5537)\n"
          ],
          "name": "stdout"
        },
        {
          "output_type": "display_data",
          "data": {
            "image/png": "[encoded data removed]",
            "text/plain": [
              "<Figure size 432x288 with 1 Axes>"
            ]
          },
          "metadata": {
            "tags": [],
            "needs_background": "light"
          }
        }
      ]
    },
    {
      "cell_type": "markdown",
      "metadata": {
        "id": "kZYk4UPfjmQ6",
        "colab_type": "text"
      },
      "source": [
        "#Analysis"
      ]
    },
    {
      "cell_type": "code",
      "metadata": {
        "id": "LnYkBVftm0lV",
        "colab_type": "code",
        "colab": {}
      },
      "source": [
        ""
      ],
      "execution_count": null,
      "outputs": []
    }
  ]
}